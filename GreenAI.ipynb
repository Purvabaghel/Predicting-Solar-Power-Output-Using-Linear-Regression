{
 "cells": [
  {
   "cell_type": "markdown",
   "id": "baa9bc0d-8663-4f6f-bec3-0cf46933a1ed",
   "metadata": {},
   "source": [
    "## DAY 1 - PYTHON BASIS"
   ]
  },
  {
   "cell_type": "code",
   "execution_count": 20,
   "id": "0a9453dc-75fd-41d3-8a3a-8d8742d8072b",
   "metadata": {},
   "outputs": [
    {
     "name": "stdout",
     "output_type": "stream",
     "text": [
      "Hello Python\n",
      "Hello Python\n"
     ]
    }
   ],
   "source": [
    "#single line comment\n",
    "print('Hello Python')\n",
    "'''Python program to explain multiple line comment'''\n",
    "\"\"\"Python program to explain ---- multiple line comment\"\"\"\n",
    "print('Hello Python')"
   ]
  },
  {
   "cell_type": "code",
   "execution_count": 7,
   "id": "5e0d83d2-09f8-4ad6-9d7a-c444a17c772f",
   "metadata": {},
   "outputs": [],
   "source": [
    "#multiple assignments in one line\n",
    "x, y, z = 1, 2, 3\n",
    "#unpacking\n",
    "numbers = (4, 5, 6)\n",
    "a, b, c=numbers\n",
    "#tuple is faster than list\n",
    "#list consume more memory\n",
    "#dictionary is st of key values\n",
    "#set is unordered collection, repeatation not allowed "
   ]
  },
  {
   "cell_type": "code",
   "execution_count": 10,
   "id": "5328c421-3198-4357-8809-027ebfc349dc",
   "metadata": {},
   "outputs": [
    {
     "name": "stdout",
     "output_type": "stream",
     "text": [
      "Type of a:  <class 'int'>\n",
      "\n",
      "Type of b:  <class 'float'>\n",
      "\n",
      "Type of c:  <class 'complex'>\n"
     ]
    }
   ],
   "source": [
    "#numeric data types\n",
    "a=5\n",
    "print(\"Type of a: \", type(a))\n",
    "b=5.0\n",
    "print(\"\\nType of b: \", type(b))\n",
    "c=2+4j\n",
    "print(\"\\nType of c: \", type(c))"
   ]
  },
  {
   "cell_type": "code",
   "execution_count": 14,
   "id": "3af669db-beb2-4525-b68f-8e7c85390093",
   "metadata": {},
   "outputs": [
    {
     "name": "stdout",
     "output_type": "stream",
     "text": [
      "<class 'bool'>\n",
      "<class 'bool'>\n"
     ]
    }
   ],
   "source": [
    "#boolean data types\n",
    "print(type(True))\n",
    "print(type(False))\n",
    "#print(type(true)) --- ERROR case senstitive"
   ]
  },
  {
   "cell_type": "code",
   "execution_count": 19,
   "id": "13e61b2c-f192-41b4-9123-465c82d0d8d6",
   "metadata": {},
   "outputs": [
    {
     "name": "stdout",
     "output_type": "stream",
     "text": [
      "5.0\n",
      "0\n",
      "5\n"
     ]
    }
   ],
   "source": [
    "a=20\n",
    "b=4\n",
    "print(a/b) #quotient - in float\n",
    "print(a%b) #remainder\n",
    "print(a//b) #quotient - data type same"
   ]
  },
  {
   "cell_type": "code",
   "execution_count": 21,
   "id": "b5551d00-92ce-4bd1-b772-02ed1af9b69c",
   "metadata": {},
   "outputs": [
    {
     "name": "stdin",
     "output_type": "stream",
     "text": [
      "Enter your name: Suhani Gahukar\n"
     ]
    },
    {
     "name": "stdout",
     "output_type": "stream",
     "text": [
      "Hello World\n"
     ]
    }
   ],
   "source": [
    "#take input from user using \"input\" function\n",
    "name = input(\"Enter your name:\")\n",
    "#display a message\n",
    "print(\"Hello World\")"
   ]
  },
  {
   "cell_type": "markdown",
   "id": "7d4f5c33-12d7-4550-817a-3aefe048f271",
   "metadata": {},
   "source": [
    "# LAB ACTIVITY 2"
   ]
  },
  {
   "cell_type": "code",
   "execution_count": 23,
   "id": "5e24013a-b6a6-47e7-9085-c71692de69e8",
   "metadata": {},
   "outputs": [
    {
     "name": "stdout",
     "output_type": "stream",
     "text": [
      "City Name: City A\n"
     ]
    }
   ],
   "source": [
    "#create a string variable\n",
    "city_name = \"City A\"\n",
    "#print value of string variable\n",
    "print(f\"City Name: {city_name}\")"
   ]
  },
  {
   "cell_type": "code",
   "execution_count": 25,
   "id": "56636f69-145a-4e0f-bc99-6c19d39e2ad4",
   "metadata": {},
   "outputs": [
    {
     "name": "stdout",
     "output_type": "stream",
     "text": [
      "Temperature:25 °C\n"
     ]
    }
   ],
   "source": [
    "#2.CREATE AND ASSIGN INTEGER VARIABLES\n",
    "#create an integer varaible for temperature\n",
    "temperature = 25\n",
    "#print\n",
    "print(f\"Temperature:{temperature} °C\")"
   ]
  },
  {
   "cell_type": "code",
   "execution_count": 28,
   "id": "59e19758-07cb-4bc1-9660-a2450fa18169",
   "metadata": {},
   "outputs": [
    {
     "name": "stdout",
     "output_type": "stream",
     "text": [
      "Carbon Footprint: 500.75 kg CO2\n"
     ]
    }
   ],
   "source": [
    "#create a float variable for carbon footprint\n",
    "carbon_footprint = 500.75 #kg CO2\n",
    "print(f\"Carbon Footprint: {carbon_footprint} kg CO2\")"
   ]
  },
  {
   "cell_type": "code",
   "execution_count": 29,
   "id": "cfa7a12e-5332-44df-8617-7072e28afb6b",
   "metadata": {},
   "outputs": [
    {
     "name": "stdout",
     "output_type": "stream",
     "text": [
      "Is the city sustainable? False\n"
     ]
    }
   ],
   "source": [
    "is_sustainable = carbon_footprint < 400\n",
    "print(f\"Is the city sustainable? {is_sustainable}\")"
   ]
  },
  {
   "cell_type": "code",
   "execution_count": 32,
   "id": "51493ce7-32b3-4b93-95f3-39f46819963d",
   "metadata": {},
   "outputs": [
    {
     "name": "stdout",
     "output_type": "stream",
     "text": [
      "Weekly Temperature: [25, 27, 28, 26, 24, 30, 29]\n"
     ]
    }
   ],
   "source": [
    "weekly_temp = [25, 27, 28, 26, 24, 30, 29]\n",
    "print(f\"Weekly Temperature: {weekly_temp}\")"
   ]
  },
  {
   "cell_type": "code",
   "execution_count": 33,
   "id": "d1273d59-2833-4608-939e-aeaaed9f9b20",
   "metadata": {},
   "outputs": [
    {
     "name": "stdout",
     "output_type": "stream",
     "text": [
      "City Data: {'name': 'City A', 'temperature': 25, 'carbon_footprint': 500.75, 'is_sustainable': False}\n"
     ]
    }
   ],
   "source": [
    "city_data ={\n",
    "    \"name\": \"City A\",\n",
    "    \"temperature\": 25,\n",
    "    \"carbon_footprint\": 500.75,\n",
    "    \"is_sustainable\": False\n",
    "}\n",
    "print(f\"City Data: {city_data}\")"
   ]
  },
  {
   "cell_type": "code",
   "execution_count": 36,
   "id": "a05a1ae0-a8ec-4b15-87b1-25718bdd7d65",
   "metadata": {},
   "outputs": [
    {
     "name": "stdout",
     "output_type": "stream",
     "text": [
      "City Name: City B, Temperature: 30°C, Carbon Footprint: 350.5kg\n"
     ]
    }
   ],
   "source": [
    "city_name, temperature, carbon_footprint = \"City B\", 30, 350.50\n",
    "print(f\"City Name: {city_name}, Temperature: {temperature}°C, Carbon Footprint: {carbon_footprint}kg\")"
   ]
  },
  {
   "cell_type": "code",
   "execution_count": 40,
   "id": "7ac96a5e-4c77-409b-a23b-d2f23fd9d31b",
   "metadata": {},
   "outputs": [
    {
     "name": "stdout",
     "output_type": "stream",
     "text": [
      "0\n",
      "1\n",
      "2\n",
      "3\n",
      "4\n"
     ]
    }
   ],
   "source": [
    "for i in range(5):\n",
    "    print(i)"
   ]
  },
  {
   "cell_type": "code",
   "execution_count": 41,
   "id": "5a385a7c-d119-4392-873c-c70944e3f77c",
   "metadata": {},
   "outputs": [
    {
     "name": "stdout",
     "output_type": "stream",
     "text": [
      "2\n",
      "3\n",
      "4\n",
      "5\n",
      "6\n"
     ]
    }
   ],
   "source": [
    "for j in range(2, 7):\n",
    "    print(j)"
   ]
  },
  {
   "cell_type": "code",
   "execution_count": 44,
   "id": "e1de20a8-7761-42e2-94f3-ef2bd0576ce1",
   "metadata": {},
   "outputs": [
    {
     "name": "stdout",
     "output_type": "stream",
     "text": [
      "2\n",
      "4\n",
      "6\n",
      "8\n",
      "10\n",
      "12\n",
      "14\n",
      "16\n",
      "18\n",
      "20\n"
     ]
    }
   ],
   "source": [
    "for k in range(2, 21, 2):\n",
    "    print(k)"
   ]
  },
  {
   "cell_type": "code",
   "execution_count": 45,
   "id": "7c167812-3cfb-4a13-ad79-657e6b8edebd",
   "metadata": {},
   "outputs": [
    {
     "name": "stdout",
     "output_type": "stream",
     "text": [
      "0\n",
      "1\n",
      "2\n",
      "3\n",
      "4\n"
     ]
    }
   ],
   "source": [
    "count = 0\n",
    "while count<5:\n",
    "    print(count)\n",
    "    count += 1"
   ]
  },
  {
   "cell_type": "code",
   "execution_count": 46,
   "id": "0948535b-04a0-4837-b546-db5e704fbd4e",
   "metadata": {},
   "outputs": [
    {
     "name": "stdin",
     "output_type": "stream",
     "text": [
      "Enter something (type 'quit' to stop):  You\n"
     ]
    },
    {
     "name": "stdout",
     "output_type": "stream",
     "text": [
      "You entered:  You\n"
     ]
    },
    {
     "name": "stdin",
     "output_type": "stream",
     "text": [
      "Enter something (type 'quit' to stop):  are\n"
     ]
    },
    {
     "name": "stdout",
     "output_type": "stream",
     "text": [
      "You entered:  are\n"
     ]
    },
    {
     "name": "stdin",
     "output_type": "stream",
     "text": [
      "Enter something (type 'quit' to stop):  beautiful\n"
     ]
    },
    {
     "name": "stdout",
     "output_type": "stream",
     "text": [
      "You entered:  beautiful\n"
     ]
    },
    {
     "name": "stdin",
     "output_type": "stream",
     "text": [
      "Enter something (type 'quit' to stop):  quit\n"
     ]
    },
    {
     "name": "stdout",
     "output_type": "stream",
     "text": [
      "You entered:  quit\n"
     ]
    }
   ],
   "source": [
    "user = ' '\n",
    "while user.lower() != 'quit':\n",
    "    user = input(\"Enter something (type 'quit' to stop): \")\n",
    "    print(\"You entered: \", user)"
   ]
  },
  {
   "cell_type": "code",
   "execution_count": 51,
   "id": "9889634d-9f93-4106-9795-88eb7937b34e",
   "metadata": {},
   "outputs": [
    {
     "name": "stdout",
     "output_type": "stream",
     "text": [
      "Cities with high temperatures (> 26°C): \n",
      "City B - 30°C\n",
      "City E - 28°C\n"
     ]
    }
   ],
   "source": [
    "#sample climate dataset\n",
    "climate_data =[\n",
    "    {\"city\": \"City A\", \"temperature\": 25 , \"carbon_footprint\": 500},\n",
    "    {\"city\": \"City B\", \"temperature\": 30 , \"carbon_footprint\": 350},\n",
    "    {\"city\": \"City C\", \"temperature\": 22 , \"carbon_footprint\": 600},\n",
    "    {\"city\": \"City D\", \"temperature\": 15 , \"carbon_footprint\": 200},\n",
    "    {\"city\": \"City E\", \"temperature\": 28 , \"carbon_footprint\": 450},\n",
    "]\n",
    "high_temp_threshold = 26\n",
    "high_temp_cities = [city for city in climate_data if city[\"temperature\"]> high_temp_threshold]\n",
    "\n",
    "print(\"Cities with high temperatures (> 26°C): \")\n",
    "for city in high_temp_cities:\n",
    "    print(f\"{city['city']} - {city['temperature']}°C\")"
   ]
  },
  {
   "cell_type": "code",
   "execution_count": 52,
   "id": "bc82e715-f30c-41bd-9e5a-9f3ffa756717",
   "metadata": {},
   "outputs": [
    {
     "name": "stdout",
     "output_type": "stream",
     "text": [
      "\n",
      "Average Carbon Footprint: 420.00 kg CO2\n"
     ]
    }
   ],
   "source": [
    "#2.use loops to calculate average carbon footprint\n",
    "total_carbon = 0\n",
    "for city in climate_data:\n",
    "    total_carbon += city[\"carbon_footprint\"]\n",
    "\n",
    "avg_carbon = total_carbon/len(climate_data)\n",
    "print(f\"\\nAverage Carbon Footprint: {avg_carbon:.2f} kg CO2\")"
   ]
  },
  {
   "cell_type": "code",
   "execution_count": 54,
   "id": "71aec1f9-6ae4-4692-9ac9-005c14aff23d",
   "metadata": {},
   "outputs": [
    {
     "name": "stdout",
     "output_type": "stream",
     "text": [
      "\n",
      "Sustainable Cities (carbon footprint < 400 kg CO2): \n",
      "City B - 350 kg CO2\n",
      "City D - 200 kg CO2\n"
     ]
    }
   ],
   "source": [
    "#filter and manipulate the data\n",
    "sustainability_threshold = 400\n",
    "sustainable_cities = list(filter(lambda city: city[\"carbon_footprint\"] < sustainability_threshold, climate_data))\n",
    "print(\"\\nSustainable Cities (carbon footprint < 400 kg CO2): \")\n",
    "for city in sustainable_cities:\n",
    "    print(f\"{city['city']} - {city['carbon_footprint']} kg CO2\")"
   ]
  },
  {
   "cell_type": "code",
   "execution_count": 56,
   "id": "1bbf3675-1f7f-4ce2-83c6-a2f40a19db08",
   "metadata": {},
   "outputs": [
    {
     "name": "stdout",
     "output_type": "stream",
     "text": [
      "City with the highest carbon footprint:\n",
      "City C-->600 kg CO2\n"
     ]
    }
   ],
   "source": [
    "# to find the city with highest carbon footprint\n",
    "highest_footprint_city = max(climate_data, key=lambda city: city[\"carbon_footprint\"])\n",
    "print(f\"City with the highest carbon footprint:\")\n",
    "print(f\"{highest_footprint_city[\"city\"]}-->{highest_footprint_city[\"carbon_footprint\"]} kg CO2\")"
   ]
  },
  {
   "cell_type": "markdown",
   "id": "76e4acb6-02a6-40e9-8011-ea1c0be9614b",
   "metadata": {},
   "source": [
    "# DAY 2 07-01-2024"
   ]
  },
  {
   "cell_type": "code",
   "execution_count": 3,
   "id": "bd441bbc-0fe4-4ffa-b7fa-1b85a6174659",
   "metadata": {},
   "outputs": [
    {
     "name": "stdout",
     "output_type": "stream",
     "text": [
      "Hello\n",
      "Glad to meet you\n"
     ]
    }
   ],
   "source": [
    "def hello():\n",
    "    \"\"\"This function says hello and greets you\"\"\"\n",
    "    print(\"Hello\")\n",
    "    print(\"Glad to meet you\")\n",
    "hello()    "
   ]
  },
  {
   "cell_type": "code",
   "execution_count": 4,
   "id": "faa175b0-fac3-4233-9bba-f338d02d8de7",
   "metadata": {},
   "outputs": [
    {
     "name": "stdout",
     "output_type": "stream",
     "text": [
      "Square: 9\n"
     ]
    }
   ],
   "source": [
    "def find_sqaure(num):\n",
    "    result = num*num\n",
    "    return result\n",
    "square = find_sqaure(3)\n",
    "print('Square:',square)"
   ]
  },
  {
   "cell_type": "code",
   "execution_count": 5,
   "id": "13a8c28e-0291-435d-ae5e-956fe7ebfe11",
   "metadata": {},
   "outputs": [
    {
     "name": "stdout",
     "output_type": "stream",
     "text": [
      "15\n"
     ]
    }
   ],
   "source": [
    "x = lambda a : a+10\n",
    "print(x(5))"
   ]
  },
  {
   "cell_type": "code",
   "execution_count": 13,
   "id": "d63e4ac9-33fb-4b02-b22d-da811bdfb02a",
   "metadata": {},
   "outputs": [],
   "source": [
    "def calculate_carbon_footprint(energy_consumption,emission_factor):\n",
    "    \"\"\" This function calculated the carbon footprint based on energy consumption \n",
    "    (in kilowatt-hours) and the emission factor (in kg CO2 per kWh).\"\"\"\n",
    "    return energy_consumption * emission_factor"
   ]
  },
  {
   "cell_type": "code",
   "execution_count": 15,
   "id": "0a192526-da34-4a32-8662-8a7189d89147",
   "metadata": {},
   "outputs": [
    {
     "name": "stdout",
     "output_type": "stream",
     "text": [
      "Carbon Footprint: 475.0kg CO2\n"
     ]
    }
   ],
   "source": [
    "energy_consumption = 1000\n",
    "emission_factor = 0.475\n",
    "carbon_footprint= calculate_carbon_footprint(energy_consumption, emission_factor)\n",
    "print(f\"Carbon Footprint: {carbon_footprint}kg CO2\")"
   ]
  },
  {
   "cell_type": "code",
   "execution_count": 17,
   "id": "a816ccca-4c4d-48f9-8fe7-11e05eeff4ac",
   "metadata": {},
   "outputs": [
    {
     "name": "stdout",
     "output_type": "stream",
     "text": [
      "Sustainable Cities:\n",
      "City B\n",
      "City D\n"
     ]
    }
   ],
   "source": [
    "cities = [\n",
    "    {\"name\": \"City A\", \"carbon_footprint\":500},\n",
    "    {\"name\": \"City B\", \"carbon_footprint\":350},\n",
    "    {\"name\": \"City C\", \"carbon_footprint\":600},\n",
    "    {\"name\": \"City D\", \"carbon_footprint\":200}\n",
    "]\n",
    "sustainability_threshold = 400\n",
    "sustainable_cities = list(filter(lambda city : city[\"carbon_footprint\"] < sustainability_threshold,cities))\n",
    "print(\"Sustainable Cities:\")\n",
    "for city in sustainable_cities:\n",
    "    print(city[\"name\"])"
   ]
  },
  {
   "cell_type": "code",
   "execution_count": 18,
   "id": "93bef4f2-df91-4718-b199-596be8a1a5d3",
   "metadata": {},
   "outputs": [
    {
     "data": {
      "text/plain": [
       "'PANDAS ---> panel data frame series\\nbuit top on numpy\\nit provide two main data structure : Series and Data frame\\nseries() ---> convert list,tuple,dictionary into a series.\\ndata frame consist of --> index,column and data\\ndf.describe--> 5 point summary 0,25,50,75,100% ; standard deviation\\ndf.loc and df.iloc works as slicing, it bifurgate columns'"
      ]
     },
     "execution_count": 18,
     "metadata": {},
     "output_type": "execute_result"
    }
   ],
   "source": [
    "\"\"\"PANDAS ---> panel data frame series\n",
    "buit top on numpy\n",
    "it provide two main data structure : Series and Data frame\n",
    "series() ---> convert list,tuple,dictionary into a series.\n",
    "data frame consist of --> index,column and data\n",
    "df.describe--> 5 point summary 0,25,50,75,100% ; standard deviation\n",
    "df.loc and df.iloc works as slicing, it bifurgate columns\n",
    "df.column shows all the columns even as when theer are large number of columns some\n",
    "of the columns are not shown and if we use df.head then those columns will not be shown thats why df.columns\"\"\""
   ]
  },
  {
   "cell_type": "code",
   "execution_count": 21,
   "id": "bbdb01d4-5da1-49fd-8172-8d7119640053",
   "metadata": {},
   "outputs": [],
   "source": [
    "import pandas as pd\n",
    "renewable_sources = [\"Solar\",\"Wind\",\"Hydropower\",\"Geothermal\",\"Biomass\"]\n",
    "data={\n",
    "    \"Project\":[\"Solar Farm A\",\"Wind Turbine X\",\"Hydropower Y\",\"Solar Roof Z\",\"Grothermal Plant P\"],\n",
    "    \"Technology\":[\"Solar\",\"Wind\",\"Hydropower\",\"Solar\",\"Geothermal\"],\n",
    "    \"Capacity (MW)\":[150,300,200,50,100],\n",
    "    \"Cost (Million $)\":[200,400,350,100,250],\n",
    "    \"Location\":[\"California\",\"Texas\",\"Washington\",\"Nevada\",\"Idaho\"],\n",
    "    \"Completion Year\":[2023,2024,2022,2025,2023]\n",
    "}\n"
   ]
  },
  {
   "cell_type": "code",
   "execution_count": 22,
   "id": "ac8332a8-41f9-4e50-96e1-e74dbd2582d6",
   "metadata": {},
   "outputs": [
    {
     "name": "stdout",
     "output_type": "stream",
     "text": [
      "Renewable Energy Sources:\n",
      "0         Solar\n",
      "1          Wind\n",
      "2    Hydropower\n",
      "3    Geothermal\n",
      "4       Biomass\n",
      "dtype: object\n"
     ]
    }
   ],
   "source": [
    "renewable_series = pd.Series(renewable_sources)\n",
    "print(\"Renewable Energy Sources:\")\n",
    "print(renewable_series)"
   ]
  },
  {
   "cell_type": "code",
   "execution_count": 23,
   "id": "3a2d4186-061d-415a-8099-61b9f66befbc",
   "metadata": {},
   "outputs": [
    {
     "name": "stdout",
     "output_type": "stream",
     "text": [
      "\n",
      "Green Technology Projects Dataframe:\n",
      "              Project  Technology  Capacity (MW)  Cost (Million $)  \\\n",
      "0        Solar Farm A       Solar            150               200   \n",
      "1      Wind Turbine X        Wind            300               400   \n",
      "2        Hydropower Y  Hydropower            200               350   \n",
      "3        Solar Roof Z       Solar             50               100   \n",
      "4  Grothermal Plant P  Geothermal            100               250   \n",
      "\n",
      "     Location  Completion Year  \n",
      "0  California             2023  \n",
      "1       Texas             2024  \n",
      "2  Washington             2022  \n",
      "3      Nevada             2025  \n",
      "4       Idaho             2023  \n"
     ]
    }
   ],
   "source": [
    "projects_df = pd.DataFrame(data)\n",
    "print(\"\\nGreen Technology Projects Dataframe:\")\n",
    "print(projects_df)"
   ]
  },
  {
   "cell_type": "code",
   "execution_count": 29,
   "id": "a7a7e076-e7ec-45e9-beb8-e728c40f8581",
   "metadata": {},
   "outputs": [
    {
     "data": {
      "text/html": [
       "<div>\n",
       "<style scoped>\n",
       "    .dataframe tbody tr th:only-of-type {\n",
       "        vertical-align: middle;\n",
       "    }\n",
       "\n",
       "    .dataframe tbody tr th {\n",
       "        vertical-align: top;\n",
       "    }\n",
       "\n",
       "    .dataframe thead th {\n",
       "        text-align: right;\n",
       "    }\n",
       "</style>\n",
       "<table border=\"1\" class=\"dataframe\">\n",
       "  <thead>\n",
       "    <tr style=\"text-align: right;\">\n",
       "      <th></th>\n",
       "      <th>Project</th>\n",
       "      <th>Technology</th>\n",
       "      <th>Capacity (MW)</th>\n",
       "      <th>Cost (Million $)</th>\n",
       "      <th>Location</th>\n",
       "      <th>Completion Year</th>\n",
       "    </tr>\n",
       "  </thead>\n",
       "  <tbody>\n",
       "    <tr>\n",
       "      <th>0</th>\n",
       "      <td>Solar Farm A</td>\n",
       "      <td>Solar</td>\n",
       "      <td>150</td>\n",
       "      <td>200</td>\n",
       "      <td>California</td>\n",
       "      <td>2023</td>\n",
       "    </tr>\n",
       "    <tr>\n",
       "      <th>1</th>\n",
       "      <td>Wind Turbine X</td>\n",
       "      <td>Wind</td>\n",
       "      <td>300</td>\n",
       "      <td>400</td>\n",
       "      <td>Texas</td>\n",
       "      <td>2024</td>\n",
       "    </tr>\n",
       "    <tr>\n",
       "      <th>2</th>\n",
       "      <td>Hydropower Y</td>\n",
       "      <td>Hydropower</td>\n",
       "      <td>200</td>\n",
       "      <td>350</td>\n",
       "      <td>Washington</td>\n",
       "      <td>2022</td>\n",
       "    </tr>\n",
       "    <tr>\n",
       "      <th>3</th>\n",
       "      <td>Solar Roof Z</td>\n",
       "      <td>Solar</td>\n",
       "      <td>50</td>\n",
       "      <td>100</td>\n",
       "      <td>Nevada</td>\n",
       "      <td>2025</td>\n",
       "    </tr>\n",
       "    <tr>\n",
       "      <th>4</th>\n",
       "      <td>Grothermal Plant P</td>\n",
       "      <td>Geothermal</td>\n",
       "      <td>100</td>\n",
       "      <td>250</td>\n",
       "      <td>Idaho</td>\n",
       "      <td>2023</td>\n",
       "    </tr>\n",
       "  </tbody>\n",
       "</table>\n",
       "</div>"
      ],
      "text/plain": [
       "              Project  Technology  Capacity (MW)  Cost (Million $)  \\\n",
       "0        Solar Farm A       Solar            150               200   \n",
       "1      Wind Turbine X        Wind            300               400   \n",
       "2        Hydropower Y  Hydropower            200               350   \n",
       "3        Solar Roof Z       Solar             50               100   \n",
       "4  Grothermal Plant P  Geothermal            100               250   \n",
       "\n",
       "     Location  Completion Year  \n",
       "0  California             2023  \n",
       "1       Texas             2024  \n",
       "2  Washington             2022  \n",
       "3      Nevada             2025  \n",
       "4       Idaho             2023  "
      ]
     },
     "execution_count": 29,
     "metadata": {},
     "output_type": "execute_result"
    }
   ],
   "source": [
    "projects_df.head()"
   ]
  },
  {
   "cell_type": "code",
   "execution_count": 30,
   "id": "2d35b2a9-d898-4256-a8b1-7dcc22180903",
   "metadata": {},
   "outputs": [
    {
     "data": {
      "text/html": [
       "<div>\n",
       "<style scoped>\n",
       "    .dataframe tbody tr th:only-of-type {\n",
       "        vertical-align: middle;\n",
       "    }\n",
       "\n",
       "    .dataframe tbody tr th {\n",
       "        vertical-align: top;\n",
       "    }\n",
       "\n",
       "    .dataframe thead th {\n",
       "        text-align: right;\n",
       "    }\n",
       "</style>\n",
       "<table border=\"1\" class=\"dataframe\">\n",
       "  <thead>\n",
       "    <tr style=\"text-align: right;\">\n",
       "      <th></th>\n",
       "      <th>Project</th>\n",
       "      <th>Technology</th>\n",
       "      <th>Capacity (MW)</th>\n",
       "      <th>Cost (Million $)</th>\n",
       "      <th>Location</th>\n",
       "      <th>Completion Year</th>\n",
       "    </tr>\n",
       "  </thead>\n",
       "  <tbody>\n",
       "    <tr>\n",
       "      <th>0</th>\n",
       "      <td>Solar Farm A</td>\n",
       "      <td>Solar</td>\n",
       "      <td>150</td>\n",
       "      <td>200</td>\n",
       "      <td>California</td>\n",
       "      <td>2023</td>\n",
       "    </tr>\n",
       "    <tr>\n",
       "      <th>1</th>\n",
       "      <td>Wind Turbine X</td>\n",
       "      <td>Wind</td>\n",
       "      <td>300</td>\n",
       "      <td>400</td>\n",
       "      <td>Texas</td>\n",
       "      <td>2024</td>\n",
       "    </tr>\n",
       "    <tr>\n",
       "      <th>2</th>\n",
       "      <td>Hydropower Y</td>\n",
       "      <td>Hydropower</td>\n",
       "      <td>200</td>\n",
       "      <td>350</td>\n",
       "      <td>Washington</td>\n",
       "      <td>2022</td>\n",
       "    </tr>\n",
       "    <tr>\n",
       "      <th>3</th>\n",
       "      <td>Solar Roof Z</td>\n",
       "      <td>Solar</td>\n",
       "      <td>50</td>\n",
       "      <td>100</td>\n",
       "      <td>Nevada</td>\n",
       "      <td>2025</td>\n",
       "    </tr>\n",
       "    <tr>\n",
       "      <th>4</th>\n",
       "      <td>Grothermal Plant P</td>\n",
       "      <td>Geothermal</td>\n",
       "      <td>100</td>\n",
       "      <td>250</td>\n",
       "      <td>Idaho</td>\n",
       "      <td>2023</td>\n",
       "    </tr>\n",
       "  </tbody>\n",
       "</table>\n",
       "</div>"
      ],
      "text/plain": [
       "              Project  Technology  Capacity (MW)  Cost (Million $)  \\\n",
       "0        Solar Farm A       Solar            150               200   \n",
       "1      Wind Turbine X        Wind            300               400   \n",
       "2        Hydropower Y  Hydropower            200               350   \n",
       "3        Solar Roof Z       Solar             50               100   \n",
       "4  Grothermal Plant P  Geothermal            100               250   \n",
       "\n",
       "     Location  Completion Year  \n",
       "0  California             2023  \n",
       "1       Texas             2024  \n",
       "2  Washington             2022  \n",
       "3      Nevada             2025  \n",
       "4       Idaho             2023  "
      ]
     },
     "execution_count": 30,
     "metadata": {},
     "output_type": "execute_result"
    }
   ],
   "source": [
    "projects_df.tail()"
   ]
  },
  {
   "cell_type": "code",
   "execution_count": 40,
   "id": "8ea39d67-a8d7-4bc4-8892-536b2889c3a7",
   "metadata": {},
   "outputs": [
    {
     "name": "stdout",
     "output_type": "stream",
     "text": [
      "\n",
      "List of Projects:\n",
      "              Project    Location  Technology\n",
      "0        Solar Farm A  California       Solar\n",
      "1      Wind Turbine X       Texas        Wind\n",
      "2        Hydropower Y  Washington  Hydropower\n",
      "3        Solar Roof Z      Nevada       Solar\n",
      "4  Grothermal Plant P       Idaho  Geothermal\n"
     ]
    }
   ],
   "source": [
    "print(\"\\nList of Projects:\")\n",
    "print(projects_df[[\"Project\",\"Location\",\"Technology\"]])"
   ]
  },
  {
   "cell_type": "code",
   "execution_count": 41,
   "id": "8ebe5513-5972-4093-be4e-e102ed764894",
   "metadata": {},
   "outputs": [
    {
     "name": "stdout",
     "output_type": "stream",
     "text": [
      "\n",
      "Projects with Capacity Greater than 100 MW:\n",
      "          Project  Technology  Capacity (MW)  Cost (Million $)    Location  \\\n",
      "0    Solar Farm A       Solar            150               200  California   \n",
      "1  Wind Turbine X        Wind            300               400       Texas   \n",
      "2    Hydropower Y  Hydropower            200               350  Washington   \n",
      "\n",
      "   Completion Year  \n",
      "0             2023  \n",
      "1             2024  \n",
      "2             2022  \n"
     ]
    }
   ],
   "source": [
    "high_capacity_projects = projects_df[projects_df[\"Capacity (MW)\"]> 100]\n",
    "print(\"\\nProjects with Capacity Greater than 100 MW:\")\n",
    "print(high_capacity_projects)"
   ]
  },
  {
   "cell_type": "code",
   "execution_count": 42,
   "id": "3c84c750-a15f-4a51-b53c-aba7b46766b4",
   "metadata": {},
   "outputs": [
    {
     "name": "stdout",
     "output_type": "stream",
     "text": [
      "\n",
      "DataFrame with Cost per MW:\n",
      "              Project  Technology  Capacity (MW)  Cost (Million $)  \\\n",
      "0        Solar Farm A       Solar            150               200   \n",
      "1      Wind Turbine X        Wind            300               400   \n",
      "2        Hydropower Y  Hydropower            200               350   \n",
      "3        Solar Roof Z       Solar             50               100   \n",
      "4  Grothermal Plant P  Geothermal            100               250   \n",
      "\n",
      "     Location  Completion Year  Cost per MW  \n",
      "0  California             2023     1.333333  \n",
      "1       Texas             2024     1.333333  \n",
      "2  Washington             2022     1.750000  \n",
      "3      Nevada             2025     2.000000  \n",
      "4       Idaho             2023     2.500000  \n"
     ]
    }
   ],
   "source": [
    "projects_df[\"Cost per MW\"]= projects_df[\"Cost (Million $)\"]/projects_df[\"Capacity (MW)\"]\n",
    "print(\"\\nDataFrame with Cost per MW:\")\n",
    "print(projects_df)"
   ]
  },
  {
   "cell_type": "code",
   "execution_count": 44,
   "id": "edf8e601-629b-46b3-86af-7361dc1e9d8d",
   "metadata": {},
   "outputs": [
    {
     "name": "stdout",
     "output_type": "stream",
     "text": [
      "\n",
      "Total Capacity of all projects: 800 MW\n",
      "Total Cost of all projects: $1300 million\n"
     ]
    }
   ],
   "source": [
    "total_capacity = projects_df[\"Capacity (MW)\"].sum()\n",
    "total_cost = projects_df[\"Cost (Million $)\"].sum()\n",
    "print(f\"\\nTotal Capacity of all projects: {total_capacity} MW\")\n",
    "print(f\"Total Cost of all projects: ${total_cost} million\")"
   ]
  },
  {
   "cell_type": "code",
   "execution_count": 45,
   "id": "8aae5bbd-f4fb-4d14-be6e-d978e054e9fd",
   "metadata": {},
   "outputs": [
    {
     "name": "stdout",
     "output_type": "stream",
     "text": [
      "\n",
      "Total Capacity by Technology:\n",
      "Technology\n",
      "Geothermal    100\n",
      "Hydropower    200\n",
      "Solar         200\n",
      "Wind          300\n",
      "Name: Capacity (MW), dtype: int64\n"
     ]
    }
   ],
   "source": [
    "grouped_data = projects_df.groupby(\"Technology\")[\"Capacity (MW)\"].sum()\n",
    "print(\"\\nTotal Capacity by Technology:\")\n",
    "print(grouped_data)"
   ]
  },
  {
   "cell_type": "code",
   "execution_count": 46,
   "id": "8a67f0b1-88a7-4454-ad08-fbe050aeec10",
   "metadata": {},
   "outputs": [
    {
     "name": "stdout",
     "output_type": "stream",
     "text": [
      "[0 1 2 3]\n",
      "<class 'numpy.ndarray'>\n",
      "1\n",
      "(4,)\n",
      "4\n"
     ]
    }
   ],
   "source": [
    "import numpy as np \n",
    "a = np.array([0,1,2,3])\n",
    "print(a)\n",
    "print(type(a))\n",
    "print(a.ndim)\n",
    "print(a.shape)\n",
    "print(len(a))"
   ]
  },
  {
   "cell_type": "code",
   "execution_count": 48,
   "id": "5c318217-8742-4769-9eb6-127e357cea5f",
   "metadata": {},
   "outputs": [
    {
     "data": {
      "text/plain": [
       "array([[1, 2, 3],\n",
       "       [4, 5, 6],\n",
       "       [7, 8, 9]])"
      ]
     },
     "execution_count": 48,
     "metadata": {},
     "output_type": "execute_result"
    }
   ],
   "source": [
    "mylist=[[1,2,3],[4,5,6],[7,8,9]]\n",
    "np.array(mylist)"
   ]
  },
  {
   "cell_type": "code",
   "execution_count": 51,
   "id": "4db713ff-a42b-4706-9fd6-51580fc6a037",
   "metadata": {},
   "outputs": [
    {
     "name": "stdout",
     "output_type": "stream",
     "text": [
      "[0.28986182 0.4934078  0.44873216 0.5719479  0.10918208]\n",
      "[[0.95397934 0.94708594 0.03050465 0.26251471]\n",
      " [0.4449375  0.88951931 0.95045839 0.11273969]\n",
      " [0.88850685 0.02704252 0.323309   0.20258803]\n",
      " [0.74022304 0.88081628 0.8742762  0.19804938]]\n"
     ]
    },
    {
     "data": {
      "text/plain": [
       "array([-1.74274021,  1.37740695, -0.00945007,  0.39136984])"
      ]
     },
     "execution_count": 51,
     "metadata": {},
     "output_type": "execute_result"
    }
   ],
   "source": [
    "print(np.random.rand(5)) #uniform distribution of\n",
    "print(np.random.rand(4,4)) #create 2-D array of ra\n",
    "np.random.randn(4) #std. normal distribution"
   ]
  },
  {
   "cell_type": "code",
   "execution_count": 53,
   "id": "f3ff7327-2629-4f87-a1c7-00b283b31617",
   "metadata": {},
   "outputs": [
    {
     "name": "stdout",
     "output_type": "stream",
     "text": [
      "Energy Consumption (in MWh) for Different Renewable Sources:\n",
      "[1200 3400 2900 1800 2500]\n"
     ]
    }
   ],
   "source": [
    "energy_consumption = np.array([1200,3400,2900,1800,2500])\n",
    "print(\"Energy Consumption (in MWh) for Different Renewable Sources:\")\n",
    "print(energy_consumption)"
   ]
  },
  {
   "cell_type": "code",
   "execution_count": 54,
   "id": "63dc80fe-de75-49be-8f91-9ddeba24a737",
   "metadata": {},
   "outputs": [
    {
     "name": "stdout",
     "output_type": "stream",
     "text": [
      "\n",
      "Total Energy Consuption: 11800 MWh\n"
     ]
    }
   ],
   "source": [
    "total_consumption = np.sum(energy_consumption)\n",
    "print(f\"\\nTotal Energy Consuption: {total_consumption} MWh\")"
   ]
  },
  {
   "cell_type": "code",
   "execution_count": 55,
   "id": "903c0ef4-7c3f-48cd-940a-83027f298572",
   "metadata": {},
   "outputs": [
    {
     "name": "stdout",
     "output_type": "stream",
     "text": [
      "\n",
      "Mean Energy Consumption: 2360.00 MWH\n"
     ]
    }
   ],
   "source": [
    "mean_consumption = np.mean(energy_consumption)\n",
    "print(f\"\\nMean Energy Consumption: {mean_consumption:.2f} MWH\")"
   ]
  },
  {
   "cell_type": "code",
   "execution_count": 56,
   "id": "48b6bcb8-508c-45ac-b51b-790dcc506c29",
   "metadata": {},
   "outputs": [
    {
     "name": "stdout",
     "output_type": "stream",
     "text": [
      "\n",
      "Standard Deviation of Energy Consumption: 781.28 MWh\n"
     ]
    }
   ],
   "source": [
    "std_deviation = np.std(energy_consumption)\n",
    "print(f\"\\nStandard Deviation of Energy Consumption: {std_deviation:.2f} MWh\")"
   ]
  },
  {
   "cell_type": "code",
   "execution_count": 57,
   "id": "985b0a57-7324-4694-ba1e-4f1ecfdcf125",
   "metadata": {},
   "outputs": [
    {
     "name": "stdout",
     "output_type": "stream",
     "text": [
      "\n",
      "Reshaped Energy Consumption Array (5x1):\n",
      "[[1200]\n",
      " [3400]\n",
      " [2900]\n",
      " [1800]\n",
      " [2500]]\n"
     ]
    }
   ],
   "source": [
    "reshaped_array= energy_consumption.reshape((5,1))\n",
    "print(\"\\nReshaped Energy Consumption Array (5x1):\")\n",
    "print(reshaped_array)"
   ]
  },
  {
   "cell_type": "markdown",
   "id": "5ec0da53-8585-4098-8089-e5e7ef168451",
   "metadata": {},
   "source": [
    "# DATA PREPROCESSING"
   ]
  },
  {
   "cell_type": "code",
   "execution_count": 60,
   "id": "d4994010-b092-477c-a518-4abc0dd2cb64",
   "metadata": {},
   "outputs": [
    {
     "name": "stdout",
     "output_type": "stream",
     "text": [
      "Original Energy Data with missing Values:\n",
      "  Energy Source  Energy Consumption (MWh)  Cost (Million $)\n",
      "0         Solar                    1200.0             200.0\n",
      "1          Wind                       NaN             400.0\n",
      "2    Hydropower                    2900.0               NaN\n",
      "3    Geothermal                       NaN             150.0\n",
      "4       Biomass                    2500.0             250.0\n",
      "5       Nuclear                    3200.0               NaN\n"
     ]
    }
   ],
   "source": [
    "#sample data with missing valyes\n",
    "data={\n",
    "    \"Energy Source\": [\"Solar\",\"Wind\",\"Hydropower\",\"Geothermal\",\"Biomass\",\"Nuclear\"],\n",
    "    \"Energy Consumption (MWh)\": [1200,np.nan,2900,np.nan,2500,3200],\n",
    "    \"Cost (Million $)\": [200,400,np.nan,150,250,np.nan]\n",
    "}\n",
    "\n",
    "#create a DataFrame\n",
    "energy_df=pd.DataFrame(data)\n",
    "\n",
    "print(\"Original Energy Data with missing Values:\")\n",
    "print(energy_df)"
   ]
  },
  {
   "cell_type": "code",
   "execution_count": 62,
   "id": "4cb54047-0896-41fc-b91c-295e7e675119",
   "metadata": {},
   "outputs": [
    {
     "data": {
      "text/plain": [
       "Energy Source               0\n",
       "Energy Consumption (MWh)    2\n",
       "Cost (Million $)            2\n",
       "dtype: int64"
      ]
     },
     "execution_count": 62,
     "metadata": {},
     "output_type": "execute_result"
    }
   ],
   "source": [
    "energy_df.isnull().sum()"
   ]
  },
  {
   "cell_type": "code",
   "execution_count": 61,
   "id": "4c08efe8-568e-45b1-b9af-b93e583e8547",
   "metadata": {},
   "outputs": [
    {
     "data": {
      "text/plain": [
       "4"
      ]
     },
     "execution_count": 61,
     "metadata": {},
     "output_type": "execute_result"
    }
   ],
   "source": [
    "energy_df.isnull().sum().sum()"
   ]
  },
  {
   "cell_type": "code",
   "execution_count": 64,
   "id": "a4da3d8f-6ac6-4b6d-ad35-147ecfa18be9",
   "metadata": {},
   "outputs": [
    {
     "name": "stdout",
     "output_type": "stream",
     "text": [
      "Data After Removing Rows with Missing Values:\n",
      "  Energy Source  Energy Consumption (MWh)  Cost (Million $)\n",
      "0         Solar                    1200.0             200.0\n",
      "4       Biomass                    2500.0             250.0\n"
     ]
    }
   ],
   "source": [
    "cleaned_df = energy_df.dropna()\n",
    "print(\"Data After Removing Rows with Missing Values:\")\n",
    "print(cleaned_df)"
   ]
  },
  {
   "cell_type": "code",
   "execution_count": 67,
   "id": "ea342f93-ab32-4271-9029-2dc8d4a2678e",
   "metadata": {},
   "outputs": [
    {
     "name": "stdout",
     "output_type": "stream",
     "text": [
      "Data After Imputing Missing values with Mean:\n",
      "  Energy Source  Energy Consumption (MWh)  Cost (Million $)\n",
      "0         Solar                    1200.0             200.0\n",
      "1          Wind                    2450.0             400.0\n",
      "2    Hydropower                    2900.0             250.0\n",
      "3    Geothermal                    2450.0             150.0\n",
      "4       Biomass                    2500.0             250.0\n",
      "5       Nuclear                    3200.0             250.0\n"
     ]
    }
   ],
   "source": [
    "energy_df[\"Energy Consumption (MWh)\"].fillna(energy_df[\"Energy Consumption (MWh)\"].mean(),inplace=True)\n",
    "energy_df[\"Cost (Million $)\"].fillna(energy_df[\"Cost (Million $)\"].mean(),inplace=True)\n",
    "print(\"Data After Imputing Missing values with Mean:\")\n",
    "print(energy_df)"
   ]
  },
  {
   "cell_type": "code",
   "execution_count": 72,
   "id": "fe921048-bdf6-4af3-a9b2-a692a6cecaac",
   "metadata": {},
   "outputs": [
    {
     "name": "stdout",
     "output_type": "stream",
     "text": [
      "\n",
      "Data After Forward Filling:\n",
      "  Energy Source  Energy Consumption (MWh)  Cost (Million $)\n",
      "0         Solar                    1200.0             200.0\n",
      "1          Wind                    2450.0             400.0\n",
      "2    Hydropower                    2900.0             250.0\n",
      "3    Geothermal                    2450.0             150.0\n",
      "4       Biomass                    2500.0             250.0\n",
      "5       Nuclear                    3200.0             250.0\n"
     ]
    }
   ],
   "source": [
    "import warnings\n",
    "warnings.filterwarnings(\"ignore\")\n",
    "forward_filled_df = energy_df.fillna(method=\"ffill\")\n",
    "print(\"\\nData After Forward Filling:\")\n",
    "print(forward_filled_df)"
   ]
  },
  {
   "cell_type": "code",
   "execution_count": 74,
   "id": "eaece72b-eb67-4719-b44e-982e05840b13",
   "metadata": {},
   "outputs": [
    {
     "name": "stdout",
     "output_type": "stream",
     "text": [
      "Data with Missing Values Flagged:\n",
      "  Energy Source  Energy Consumption (MWh)  Cost (Million $)  \\\n",
      "0         Solar                    1200.0             200.0   \n",
      "1          Wind                    2450.0             400.0   \n",
      "2    Hydropower                    2900.0             250.0   \n",
      "3    Geothermal                    2450.0             150.0   \n",
      "4       Biomass                    2500.0             250.0   \n",
      "5       Nuclear                    3200.0             250.0   \n",
      "\n",
      "   Missing Consumption  \n",
      "0                    0  \n",
      "1                    0  \n",
      "2                    0  \n",
      "3                    0  \n",
      "4                    0  \n",
      "5                    0  \n"
     ]
    }
   ],
   "source": [
    "energy_df[\"Missing Consumption\"] = energy_df[\"Energy Consumption (MWh)\"].isna().astype(int)\n",
    "print(\"Data with Missing Values Flagged:\")\n",
    "print(energy_df)"
   ]
  },
  {
   "cell_type": "code",
   "execution_count": 76,
   "id": "4f8855a0-55ce-42b4-ab1e-70f9a2cc0e52",
   "metadata": {},
   "outputs": [
    {
     "name": "stdout",
     "output_type": "stream",
     "text": [
      "Data After Normalization (Min-Max Scaling):\n",
      "  Energy Source  Energy Consumption (MWh)  Cost (Million $)  \\\n",
      "0         Solar                     0.000               0.2   \n",
      "1          Wind                     0.625               1.0   \n",
      "2    Hydropower                     0.850               0.4   \n",
      "3    Geothermal                     0.625               0.0   \n",
      "4       Biomass                     0.650               0.4   \n",
      "5       Nuclear                     1.000               0.4   \n",
      "\n",
      "   Missing Consumption  \n",
      "0                    0  \n",
      "1                    0  \n",
      "2                    0  \n",
      "3                    0  \n",
      "4                    0  \n",
      "5                    0  \n"
     ]
    }
   ],
   "source": [
    "from sklearn.preprocessing import MinMaxScaler\n",
    "scaler = MinMaxScaler()\n",
    "energy_df[[\"Energy Consumption (MWh)\",\"Cost (Million $)\"]] = scaler.fit_transform(energy_df[[\"Energy Consumption (MWh)\", \"Cost (Million $)\"]])\n",
    "print(\"Data After Normalization (Min-Max Scaling):\")\n",
    "print(energy_df)"
   ]
  },
  {
   "cell_type": "code",
   "execution_count": 80,
   "id": "0060dbc1-58d8-4659-b70b-e23400cc206c",
   "metadata": {},
   "outputs": [
    {
     "name": "stdout",
     "output_type": "stream",
     "text": [
      "Data After Strandardization (Z Score Scaling):\n",
      "  Energy Source  Energy Consumption (MWh)  Cost (Million $)  \\\n",
      "0         Solar             -2.005893e+00     -6.546537e-01   \n",
      "1          Wind              3.563181e-16      1.963961e+00   \n",
      "2    Hydropower              7.221213e-01      1.817029e-16   \n",
      "3    Geothermal              3.563181e-16     -1.309307e+00   \n",
      "4       Biomass              8.023570e-02      1.817029e-16   \n",
      "5       Nuclear              1.203536e+00      1.817029e-16   \n",
      "\n",
      "   Missing Consumption  \n",
      "0                    0  \n",
      "1                    0  \n",
      "2                    0  \n",
      "3                    0  \n",
      "4                    0  \n",
      "5                    0  \n"
     ]
    }
   ],
   "source": [
    "from sklearn.preprocessing import StandardScaler\n",
    "scaler = StandardScaler()\n",
    "energy_df[[\"Energy Consumption (MWh)\", \"Cost (Million $)\"]] = scaler.fit_transform(energy_df[[\"Energy Consumption (MWh)\", \"Cost (Million $)\"]])\n",
    "print(\"Data After Strandardization (Z Score Scaling):\")\n",
    "print(energy_df)"
   ]
  },
  {
   "cell_type": "code",
   "execution_count": 82,
   "id": "8621a2d3-728c-4c5a-95e9-0c46a4b2788f",
   "metadata": {},
   "outputs": [
    {
     "name": "stdout",
     "output_type": "stream",
     "text": [
      "Data After One Hot Encoding Categorical Variables:\n",
      "   Energy Consumption (MWh)  Cost (Million $)  Missing Consumption  \\\n",
      "0             -2.005893e+00     -6.546537e-01                    0   \n",
      "1              3.563181e-16      1.963961e+00                    0   \n",
      "2              7.221213e-01      1.817029e-16                    0   \n",
      "3              3.563181e-16     -1.309307e+00                    0   \n",
      "4              8.023570e-02      1.817029e-16                    0   \n",
      "5              1.203536e+00      1.817029e-16                    0   \n",
      "\n",
      "   Energy Source_Biomass  Energy Source_Geothermal  Energy Source_Hydropower  \\\n",
      "0                  False                     False                     False   \n",
      "1                  False                     False                     False   \n",
      "2                  False                     False                      True   \n",
      "3                  False                      True                     False   \n",
      "4                   True                     False                     False   \n",
      "5                  False                     False                     False   \n",
      "\n",
      "   Energy Source_Nuclear  Energy Source_Solar  Energy Source_Wind  \n",
      "0                  False                 True               False  \n",
      "1                  False                False                True  \n",
      "2                  False                False               False  \n",
      "3                  False                False               False  \n",
      "4                  False                False               False  \n",
      "5                   True                False               False  \n"
     ]
    }
   ],
   "source": [
    "energy_encoded_df = pd.get_dummies(energy_df, columns=[\"Energy Source\"])\n",
    "print(\"Data After One Hot Encoding Categorical Variables:\")\n",
    "print(energy_encoded_df)"
   ]
  },
  {
   "cell_type": "code",
   "execution_count": 83,
   "id": "1faa0c0a-7914-4173-aef3-857cbbf74815",
   "metadata": {},
   "outputs": [
    {
     "name": "stdout",
     "output_type": "stream",
     "text": [
      "Data with new feature (Consumption per $Million):\n",
      "   Energy Consumption (MWh)  Cost (Million $)  Missing Consumption  \\\n",
      "0             -2.005893e+00     -6.546537e-01                    0   \n",
      "1              3.563181e-16      1.963961e+00                    0   \n",
      "2              7.221213e-01      1.817029e-16                    0   \n",
      "3              3.563181e-16     -1.309307e+00                    0   \n",
      "4              8.023570e-02      1.817029e-16                    0   \n",
      "5              1.203536e+00      1.817029e-16                    0   \n",
      "\n",
      "   Energy Source_Biomass  Energy Source_Geothermal  Energy Source_Hydropower  \\\n",
      "0                  False                     False                     False   \n",
      "1                  False                     False                     False   \n",
      "2                  False                     False                      True   \n",
      "3                  False                      True                     False   \n",
      "4                   True                     False                     False   \n",
      "5                  False                     False                     False   \n",
      "\n",
      "   Energy Source_Nuclear  Energy Source_Solar  Energy Source_Wind  \\\n",
      "0                  False                 True               False   \n",
      "1                  False                False                True   \n",
      "2                  False                False               False   \n",
      "3                  False                False               False   \n",
      "4                  False                False               False   \n",
      "5                   True                False               False   \n",
      "\n",
      "   Comsumption per %Million  \n",
      "0              3.064052e+00  \n",
      "1              1.814283e-16  \n",
      "2              3.974187e+15  \n",
      "3             -2.721424e-16  \n",
      "4              4.415764e+14  \n",
      "5              6.623646e+15  \n"
     ]
    }
   ],
   "source": [
    "energy_encoded_df[\"Comsumption per %Million\"]= energy_encoded_df[\"Energy Consumption (MWh)\"]/energy_encoded_df[\"Cost (Million $)\"]\n",
    "print(\"Data with new feature (Consumption per $Million):\")\n",
    "print(energy_encoded_df)"
   ]
  },
  {
   "cell_type": "markdown",
   "id": "b8e27f67-b971-43a1-a229-4e00905d3d4e",
   "metadata": {},
   "source": [
    "# DAY 3 08-01-2025"
   ]
  },
  {
   "cell_type": "code",
   "execution_count": 2,
   "id": "3cfe8e0a-ec6b-46ee-b0c5-a6e2fda27180",
   "metadata": {},
   "outputs": [
    {
     "data": {
      "image/png": "[encoded data removed]",
      "text/plain": [
       "<Figure size 640x480 with 1 Axes>"
      ]
     },
     "metadata": {},
     "output_type": "display_data"
    }
   ],
   "source": [
    "import numpy as np\n",
    "import pandas as pd\n",
    "from matplotlib import pyplot as plt\n",
    "#import matplotlib.pyplot as plt\n",
    "x=[5,2,7]\n",
    "y=[2,16,4]\n",
    "plt.plot(x,y)\n",
    "plt.title('Info')\n",
    "plt.ylabel('Y axis')\n",
    "plt.xlabel('X axis')\n",
    "plt.show()"
   ]
  },
  {
   "cell_type": "code",
   "execution_count": 3,
   "id": "f64df269-0b8f-495b-b6c5-142bbedf0c25",
   "metadata": {},
   "outputs": [
    {
     "data": {
      "image/png": "[encoded data removed]",
      "text/plain": [
       "<Figure size 640x480 with 1 Axes>"
      ]
     },
     "metadata": {},
     "output_type": "display_data"
    }
   ],
   "source": [
    "#sample data for energy consumption over 6 months (in MWh)\n",
    "months=['Jan','Feb','Mar','Apr','May','Jun']\n",
    "energy_consumption = [1200,1300,1100,1500,1400,1600]\n",
    "\n",
    "#Create a line plot\n",
    "plt.plot(months,energy_consumption,marker='o',color='b',linestyle='-')\n",
    "\n",
    "#Add titles and labels\n",
    "plt.title('Energy Consumption Over 6 Months')\n",
    "plt.xlabel(\"Month\")\n",
    "plt.ylabel(\"Energy Consumption (MWh)\")\n",
    "plt.show()"
   ]
  },
  {
   "cell_type": "code",
   "execution_count": 4,
   "id": "7779bed6-e883-4b01-ae7c-f81474daabf6",
   "metadata": {},
   "outputs": [
    {
     "data": {
      "image/png": "[encoded data removed]",
      "text/plain": [
       "<Figure size 640x480 with 1 Axes>"
      ]
     },
     "metadata": {},
     "output_type": "display_data"
    }
   ],
   "source": [
    "#Sample data for energy consumption by diferrent renewable sources\n",
    "energy_sources = ['Solar','Wind','Hydropower','Biomass']\n",
    "energy_values = [1200,3400,2900,2500]\n",
    "\n",
    "#Create a bar chart\n",
    "plt.bar(energy_sources,energy_values,color='pink')\n",
    "\n",
    "#Add title and labels\n",
    "plt.title(\"Energy Consumption by renewable Energy Source\")\n",
    "plt.xlabel('Energy Source')\n",
    "plt.ylabel('Energy Consumption (MWh)')\n",
    "plt.show()"
   ]
  },
  {
   "cell_type": "code",
   "execution_count": 5,
   "id": "7af8e938-dfb3-4e04-a454-121b4714d274",
   "metadata": {},
   "outputs": [
    {
     "data": {
      "image/png": "[encoded data removed]",
      "text/plain": [
       "<Figure size 640x480 with 1 Axes>"
      ]
     },
     "metadata": {},
     "output_type": "display_data"
    }
   ],
   "source": [
    "#Pie chart to sjow energy consumption distributuin\n",
    "plt.pie(energy_values,labels=energy_sources,autopct='%1.1f%%',colors=['gold','lightblue','lightgreen','coral'])\n",
    "\n",
    "#add a title\n",
    "plt.title('Energy Consumption Share by Source')\n",
    "plt.show()"
   ]
  },
  {
   "cell_type": "code",
   "execution_count": 6,
   "id": "40af6dc8-96bd-4c32-a799-47af1f5a9688",
   "metadata": {},
   "outputs": [
    {
     "data": {
      "image/png": "[encoded data removed]",
      "text/plain": [
       "<Figure size 640x480 with 1 Axes>"
      ]
     },
     "metadata": {},
     "output_type": "display_data"
    }
   ],
   "source": [
    "# Sample data for energy consumption and carbon emissions\n",
    "carbon_emissions=[200,500,450,300] #in kg CO2\n",
    "\n",
    "#Create a scatter plot\n",
    "plt.scatter(energy_values,carbon_emissions,color='red')\n",
    "\n",
    "#add titles and labels\n",
    "plt.title('Energy Consumption bs Carbon Emissions')\n",
    "plt.xlabel('Energy Consumption (MWh)')\n",
    "plt.ylabel('Carbon Emissions (kg CO2)')\n",
    "plt.show()"
   ]
  },
  {
   "cell_type": "markdown",
   "id": "0a1da020-063b-4729-a599-d705d370cac5",
   "metadata": {},
   "source": [
    "The scatter plot helps analyze the relationship between energy consumption and the corresponding carbon emission"
   ]
  },
  {
   "cell_type": "code",
   "execution_count": 7,
   "id": "03707f8a-cdf1-4a30-8f1b-bbdc1eb26873",
   "metadata": {},
   "outputs": [
    {
     "data": {
      "image/png": "[encoded data removed]",
      "text/plain": [
       "<Figure size 640x480 with 1 Axes>"
      ]
     },
     "metadata": {},
     "output_type": "display_data"
    }
   ],
   "source": [
    "# create  a customized bar chart\n",
    "plt.bar(energy_sources,energy_values,color='orange',edgecolor='black',linewidth=2)\n",
    "\n",
    "#Add titles and labels\n",
    "plt.title('Customizes energy consumption by source',fontsize=14,fontweight='bold')\n",
    "plt.xlabel('Energy source',fontsize=12)\n",
    "plt.ylabel('Energy Consumption (MWh)',fontsize=12)\n",
    "\n",
    "#Adding grid and customizing style\n",
    "plt.grid(True,linestyle='-',alpha=0.7)\n",
    "plt.legend(['Energy Consumption'],loc='center')\n",
    "plt.show()"
   ]
  },
  {
   "cell_type": "markdown",
   "id": "42fe58b0-1c02-4588-9a8a-a772a8bd7111",
   "metadata": {},
   "source": [
    "# seaborn "
   ]
  },
  {
   "cell_type": "markdown",
   "id": "b006f807-0afe-4059-b353-ee6a10952034",
   "metadata": {},
   "source": [
    "seaborn is a data visualization library based on matplotlib\n",
    "provides a high-level interface for drawng attractive and informative statistical graphics"
   ]
  },
  {
   "cell_type": "code",
   "execution_count": 8,
   "id": "623f3d5e-65b9-42ee-8afc-456f85eb9459",
   "metadata": {},
   "outputs": [
    {
     "data": {
      "text/plain": [
       "<Axes: xlabel='day', ylabel='total_bill'>"
      ]
     },
     "execution_count": 8,
     "metadata": {},
     "output_type": "execute_result"
    },
    {
     "data": {
      "image/png": "[encoded data removed]",
      "text/plain": [
       "<Figure size 640x480 with 1 Axes>"
      ]
     },
     "metadata": {},
     "output_type": "display_data"
    }
   ],
   "source": [
    "import warnings\n",
    "warnings.filterwarnings(\"ignore\")\n",
    "import seaborn as sns\n",
    "sns.set(style ='whitegrid')\n",
    "tips = sns.load_dataset(\"tips\")\n",
    "sns.barplot(x='day',y='total_bill',data=tips)"
   ]
  },
  {
   "cell_type": "code",
   "execution_count": 9,
   "id": "e6aea30c-e5bf-4258-bc04-ec277ee9dd97",
   "metadata": {},
   "outputs": [
    {
     "data": {
      "text/plain": [
       "<Axes: >"
      ]
     },
     "execution_count": 9,
     "metadata": {},
     "output_type": "execute_result"
    },
    {
     "data": {
      "image/png": "[encoded data removed]",
      "text/plain": [
       "<Figure size 640x480 with 2 Axes>"
      ]
     },
     "metadata": {},
     "output_type": "display_data"
    }
   ],
   "source": [
    "sns.set(style=\"whitegrid\")\n",
    "tips=sns.load_dataset(\"tips\")\n",
    "numeric_data=tips.select_dtypes(include='number')\n",
    "sns.heatmap(numeric_data.corr(),annot=True,cmap=\"coolwarm\")"
   ]
  },
  {
   "cell_type": "code",
   "execution_count": 10,
   "id": "bdc2c925-454a-4f98-bc36-2c7633a06515",
   "metadata": {},
   "outputs": [
    {
     "data": {
      "image/png": "[encoded data removed]",
      "text/plain": [
       "<Figure size 1000x1000 with 20 Axes>"
      ]
     },
     "metadata": {},
     "output_type": "display_data"
    }
   ],
   "source": [
    "data={\n",
    "    \"Solar\":[1200,1500,1300],\n",
    "    \"Wind\":[3400,3600,3200],\n",
    "    \"Hydropower\":[2900,3100,2800],\n",
    "    \"Biomass\":[2500,2700,2400]\n",
    "}\n",
    "df=pd.DataFrame(data)\n",
    "\n",
    "#Create a pair plot\n",
    "sns.pairplot(df)\n",
    "plt.show()"
   ]
  },
  {
   "cell_type": "markdown",
   "id": "aec878eb-4fee-495d-834d-63bb31d0d9ba",
   "metadata": {},
   "source": [
    " # HEATMAP"
   ]
  },
  {
   "cell_type": "code",
   "execution_count": 11,
   "id": "202328bf-1696-4774-aeee-36b8be917b9e",
   "metadata": {},
   "outputs": [
    {
     "data": {
      "image/png": "[encoded data removed]",
      "text/plain": [
       "<Figure size 640x480 with 2 Axes>"
      ]
     },
     "metadata": {},
     "output_type": "display_data"
    }
   ],
   "source": [
    "#Create a heatmap to show the correlation  matrix\n",
    "correlation_matrix=df.corr()\n",
    "sns.heatmap(correlation_matrix,annot=True,cmap='coolwarm',linewidths=0.5)\n",
    "\n",
    "#add title\n",
    "plt.title('Correlation Between Energy Sources')\n",
    "plt.show()"
   ]
  },
  {
   "cell_type": "markdown",
   "id": "89ed0e11-5ec8-4e6b-aae5-e3b1fda3f11a",
   "metadata": {},
   "source": [
    "the arnge is -1 to +1\n",
    "weak correlation +0.3 to -0.3\n",
    "strong correclation : positive :- 0.7 to 1 , negative :- -0.7 to -1"
   ]
  },
  {
   "cell_type": "markdown",
   "id": "4c1a60e8-8c35-4352-b1dd-61f169bb7a13",
   "metadata": {},
   "source": [
    "# BOXPLOT"
   ]
  },
  {
   "cell_type": "code",
   "execution_count": 12,
   "id": "0a9a5452-1872-409a-88a0-3d7d16049cfa",
   "metadata": {},
   "outputs": [
    {
     "data": {
      "text/plain": [
       "Text(0.5, 1.0, 'Distribution of Energy consumption by Source')"
      ]
     },
     "execution_count": 12,
     "metadata": {},
     "output_type": "execute_result"
    },
    {
     "data": {
      "image/png": "[encoded data removed]",
      "text/plain": [
       "<Figure size 640x480 with 1 Axes>"
      ]
     },
     "metadata": {},
     "output_type": "display_data"
    }
   ],
   "source": [
    "sns.boxplot(data=df)\n",
    "plt.title('Distribution of Energy consumption by Source')"
   ]
  },
  {
   "cell_type": "code",
   "execution_count": 13,
   "id": "8ab10ddf-6caa-49b3-924a-2312c50600c1",
   "metadata": {},
   "outputs": [
    {
     "data": {
      "image/png": "[encoded data removed]",
      "text/plain": [
       "<Figure size 640x480 with 1 Axes>"
      ]
     },
     "metadata": {},
     "output_type": "display_data"
    }
   ],
   "source": [
    "sns.violinplot(data=df)\n",
    "plt.title('Villlion Plot of Energy Consumption Distribution')\n",
    "plt.show()"
   ]
  },
  {
   "cell_type": "code",
   "execution_count": 14,
   "id": "f076208f-390a-4ba4-a487-cfd7056c1b36",
   "metadata": {},
   "outputs": [
    {
     "data": {
      "text/plain": [
       "Text(0, 0.5, 'Carbon Emissions')"
      ]
     },
     "execution_count": 14,
     "metadata": {},
     "output_type": "execute_result"
    },
    {
     "data": {
      "image/png": "[encoded data removed]",
      "text/plain": [
       "<Figure size 640x480 with 1 Axes>"
      ]
     },
     "metadata": {},
     "output_type": "display_data"
    }
   ],
   "source": [
    "energy_values=[100,200,300,400,500]\n",
    "carbon_emission = [10,20,30,40,50]\n",
    "df_reg=pd.DataFrame({\n",
    "    'Energy Consumption':energy_values,\n",
    "    'Carbon Emissions':carbon_emission\n",
    "})\n",
    "sns.regplot(x='Energy Consumption',y='Carbon Emissions',data=df_reg)\n",
    "plt.title('Energy Consumption vs Carbon Emissions')\n",
    "plt.xlabel('Energy Consumption')\n",
    "plt.ylabel('Carbon Emissions')"
   ]
  },
  {
   "cell_type": "code",
   "execution_count": 16,
   "id": "23562cea-46cf-4139-9e9b-df669365e5c6",
   "metadata": {},
   "outputs": [
    {
     "data": {
      "text/plain": [
       "Text(0.5, 0.98, 'Energy consumption ')"
      ]
     },
     "execution_count": 16,
     "metadata": {},
     "output_type": "execute_result"
    },
    {
     "data": {
      "image/png": "[encoded data removed]",
      "text/plain": [
       "<Figure size 1200x400 with 3 Axes>"
      ]
     },
     "metadata": {},
     "output_type": "display_data"
    }
   ],
   "source": [
    "months=['January','February','March','April','May','June']\n",
    "df_facet=pd.DataFrame({\n",
    "    'Months':months*3,\n",
    "    'Energy Consumption':[1200,1300,1100,1500,1400,1600]*3,\n",
    "    'Region':['North','South','East']*6\n",
    "})\n",
    "g=sns.FacetGrid(df_facet,col='Region',hue='Region',height=4,aspect=1)\n",
    "g.map(sns.lineplot,'Months','Energy Consumption')\n",
    "plt.subplots_adjust(top=0.85)\n",
    "g.fig.suptitle('Energy consumption ')"
   ]
  },
  {
   "cell_type": "code",
   "execution_count": 19,
   "id": "d1bfb09c-a91a-4eeb-aa89-b6d3b9072442",
   "metadata": {},
   "outputs": [
    {
     "name": "stdout",
     "output_type": "stream",
     "text": [
      "Requirement already satisfied: scikit-learn in c:\\users\\hp\\anaconda3\\anaconda\\lib\\site-packages (1.2.2)\n",
      "Requirement already satisfied: numpy>=1.17.3 in c:\\users\\hp\\anaconda3\\anaconda\\lib\\site-packages (from scikit-learn) (1.26.4)\n",
      "Requirement already satisfied: scipy>=1.3.2 in c:\\users\\hp\\anaconda3\\anaconda\\lib\\site-packages (from scikit-learn) (1.11.4)\n",
      "Requirement already satisfied: joblib>=1.1.1 in c:\\users\\hp\\anaconda3\\anaconda\\lib\\site-packages (from scikit-learn) (1.2.0)\n",
      "Requirement already satisfied: threadpoolctl>=2.0.0 in c:\\users\\hp\\anaconda3\\anaconda\\lib\\site-packages (from scikit-learn) (2.2.0)\n"
     ]
    }
   ],
   "source": [
    "!pip install scikit-learn"
   ]
  },
  {
   "cell_type": "code",
   "execution_count": 21,
   "id": "d403a48a-a809-456b-9b43-1ac0355deca6",
   "metadata": {},
   "outputs": [],
   "source": [
    "from sklearn.datasets import load_iris\n",
    "#Load the Iris Dataset\n",
    "data = load_iris()\n",
    "x,y=data.data,data.target"
   ]
  },
  {
   "cell_type": "code",
   "execution_count": 22,
   "id": "3dfbe0c7-35d5-4bf5-9d5f-5d01bec8f186",
   "metadata": {},
   "outputs": [
    {
     "data": {
      "text/plain": [
       "array([[5.1, 3.5, 1.4, 0.2],\n",
       "       [4.9, 3. , 1.4, 0.2],\n",
       "       [4.7, 3.2, 1.3, 0.2],\n",
       "       [4.6, 3.1, 1.5, 0.2],\n",
       "       [5. , 3.6, 1.4, 0.2],\n",
       "       [5.4, 3.9, 1.7, 0.4],\n",
       "       [4.6, 3.4, 1.4, 0.3],\n",
       "       [5. , 3.4, 1.5, 0.2],\n",
       "       [4.4, 2.9, 1.4, 0.2],\n",
       "       [4.9, 3.1, 1.5, 0.1],\n",
       "       [5.4, 3.7, 1.5, 0.2],\n",
       "       [4.8, 3.4, 1.6, 0.2],\n",
       "       [4.8, 3. , 1.4, 0.1],\n",
       "       [4.3, 3. , 1.1, 0.1],\n",
       "       [5.8, 4. , 1.2, 0.2],\n",
       "       [5.7, 4.4, 1.5, 0.4],\n",
       "       [5.4, 3.9, 1.3, 0.4],\n",
       "       [5.1, 3.5, 1.4, 0.3],\n",
       "       [5.7, 3.8, 1.7, 0.3],\n",
       "       [5.1, 3.8, 1.5, 0.3],\n",
       "       [5.4, 3.4, 1.7, 0.2],\n",
       "       [5.1, 3.7, 1.5, 0.4],\n",
       "       [4.6, 3.6, 1. , 0.2],\n",
       "       [5.1, 3.3, 1.7, 0.5],\n",
       "       [4.8, 3.4, 1.9, 0.2],\n",
       "       [5. , 3. , 1.6, 0.2],\n",
       "       [5. , 3.4, 1.6, 0.4],\n",
       "       [5.2, 3.5, 1.5, 0.2],\n",
       "       [5.2, 3.4, 1.4, 0.2],\n",
       "       [4.7, 3.2, 1.6, 0.2],\n",
       "       [4.8, 3.1, 1.6, 0.2],\n",
       "       [5.4, 3.4, 1.5, 0.4],\n",
       "       [5.2, 4.1, 1.5, 0.1],\n",
       "       [5.5, 4.2, 1.4, 0.2],\n",
       "       [4.9, 3.1, 1.5, 0.2],\n",
       "       [5. , 3.2, 1.2, 0.2],\n",
       "       [5.5, 3.5, 1.3, 0.2],\n",
       "       [4.9, 3.6, 1.4, 0.1],\n",
       "       [4.4, 3. , 1.3, 0.2],\n",
       "       [5.1, 3.4, 1.5, 0.2],\n",
       "       [5. , 3.5, 1.3, 0.3],\n",
       "       [4.5, 2.3, 1.3, 0.3],\n",
       "       [4.4, 3.2, 1.3, 0.2],\n",
       "       [5. , 3.5, 1.6, 0.6],\n",
       "       [5.1, 3.8, 1.9, 0.4],\n",
       "       [4.8, 3. , 1.4, 0.3],\n",
       "       [5.1, 3.8, 1.6, 0.2],\n",
       "       [4.6, 3.2, 1.4, 0.2],\n",
       "       [5.3, 3.7, 1.5, 0.2],\n",
       "       [5. , 3.3, 1.4, 0.2],\n",
       "       [7. , 3.2, 4.7, 1.4],\n",
       "       [6.4, 3.2, 4.5, 1.5],\n",
       "       [6.9, 3.1, 4.9, 1.5],\n",
       "       [5.5, 2.3, 4. , 1.3],\n",
       "       [6.5, 2.8, 4.6, 1.5],\n",
       "       [5.7, 2.8, 4.5, 1.3],\n",
       "       [6.3, 3.3, 4.7, 1.6],\n",
       "       [4.9, 2.4, 3.3, 1. ],\n",
       "       [6.6, 2.9, 4.6, 1.3],\n",
       "       [5.2, 2.7, 3.9, 1.4],\n",
       "       [5. , 2. , 3.5, 1. ],\n",
       "       [5.9, 3. , 4.2, 1.5],\n",
       "       [6. , 2.2, 4. , 1. ],\n",
       "       [6.1, 2.9, 4.7, 1.4],\n",
       "       [5.6, 2.9, 3.6, 1.3],\n",
       "       [6.7, 3.1, 4.4, 1.4],\n",
       "       [5.6, 3. , 4.5, 1.5],\n",
       "       [5.8, 2.7, 4.1, 1. ],\n",
       "       [6.2, 2.2, 4.5, 1.5],\n",
       "       [5.6, 2.5, 3.9, 1.1],\n",
       "       [5.9, 3.2, 4.8, 1.8],\n",
       "       [6.1, 2.8, 4. , 1.3],\n",
       "       [6.3, 2.5, 4.9, 1.5],\n",
       "       [6.1, 2.8, 4.7, 1.2],\n",
       "       [6.4, 2.9, 4.3, 1.3],\n",
       "       [6.6, 3. , 4.4, 1.4],\n",
       "       [6.8, 2.8, 4.8, 1.4],\n",
       "       [6.7, 3. , 5. , 1.7],\n",
       "       [6. , 2.9, 4.5, 1.5],\n",
       "       [5.7, 2.6, 3.5, 1. ],\n",
       "       [5.5, 2.4, 3.8, 1.1],\n",
       "       [5.5, 2.4, 3.7, 1. ],\n",
       "       [5.8, 2.7, 3.9, 1.2],\n",
       "       [6. , 2.7, 5.1, 1.6],\n",
       "       [5.4, 3. , 4.5, 1.5],\n",
       "       [6. , 3.4, 4.5, 1.6],\n",
       "       [6.7, 3.1, 4.7, 1.5],\n",
       "       [6.3, 2.3, 4.4, 1.3],\n",
       "       [5.6, 3. , 4.1, 1.3],\n",
       "       [5.5, 2.5, 4. , 1.3],\n",
       "       [5.5, 2.6, 4.4, 1.2],\n",
       "       [6.1, 3. , 4.6, 1.4],\n",
       "       [5.8, 2.6, 4. , 1.2],\n",
       "       [5. , 2.3, 3.3, 1. ],\n",
       "       [5.6, 2.7, 4.2, 1.3],\n",
       "       [5.7, 3. , 4.2, 1.2],\n",
       "       [5.7, 2.9, 4.2, 1.3],\n",
       "       [6.2, 2.9, 4.3, 1.3],\n",
       "       [5.1, 2.5, 3. , 1.1],\n",
       "       [5.7, 2.8, 4.1, 1.3],\n",
       "       [6.3, 3.3, 6. , 2.5],\n",
       "       [5.8, 2.7, 5.1, 1.9],\n",
       "       [7.1, 3. , 5.9, 2.1],\n",
       "       [6.3, 2.9, 5.6, 1.8],\n",
       "       [6.5, 3. , 5.8, 2.2],\n",
       "       [7.6, 3. , 6.6, 2.1],\n",
       "       [4.9, 2.5, 4.5, 1.7],\n",
       "       [7.3, 2.9, 6.3, 1.8],\n",
       "       [6.7, 2.5, 5.8, 1.8],\n",
       "       [7.2, 3.6, 6.1, 2.5],\n",
       "       [6.5, 3.2, 5.1, 2. ],\n",
       "       [6.4, 2.7, 5.3, 1.9],\n",
       "       [6.8, 3. , 5.5, 2.1],\n",
       "       [5.7, 2.5, 5. , 2. ],\n",
       "       [5.8, 2.8, 5.1, 2.4],\n",
       "       [6.4, 3.2, 5.3, 2.3],\n",
       "       [6.5, 3. , 5.5, 1.8],\n",
       "       [7.7, 3.8, 6.7, 2.2],\n",
       "       [7.7, 2.6, 6.9, 2.3],\n",
       "       [6. , 2.2, 5. , 1.5],\n",
       "       [6.9, 3.2, 5.7, 2.3],\n",
       "       [5.6, 2.8, 4.9, 2. ],\n",
       "       [7.7, 2.8, 6.7, 2. ],\n",
       "       [6.3, 2.7, 4.9, 1.8],\n",
       "       [6.7, 3.3, 5.7, 2.1],\n",
       "       [7.2, 3.2, 6. , 1.8],\n",
       "       [6.2, 2.8, 4.8, 1.8],\n",
       "       [6.1, 3. , 4.9, 1.8],\n",
       "       [6.4, 2.8, 5.6, 2.1],\n",
       "       [7.2, 3. , 5.8, 1.6],\n",
       "       [7.4, 2.8, 6.1, 1.9],\n",
       "       [7.9, 3.8, 6.4, 2. ],\n",
       "       [6.4, 2.8, 5.6, 2.2],\n",
       "       [6.3, 2.8, 5.1, 1.5],\n",
       "       [6.1, 2.6, 5.6, 1.4],\n",
       "       [7.7, 3. , 6.1, 2.3],\n",
       "       [6.3, 3.4, 5.6, 2.4],\n",
       "       [6.4, 3.1, 5.5, 1.8],\n",
       "       [6. , 3. , 4.8, 1.8],\n",
       "       [6.9, 3.1, 5.4, 2.1],\n",
       "       [6.7, 3.1, 5.6, 2.4],\n",
       "       [6.9, 3.1, 5.1, 2.3],\n",
       "       [5.8, 2.7, 5.1, 1.9],\n",
       "       [6.8, 3.2, 5.9, 2.3],\n",
       "       [6.7, 3.3, 5.7, 2.5],\n",
       "       [6.7, 3. , 5.2, 2.3],\n",
       "       [6.3, 2.5, 5. , 1.9],\n",
       "       [6.5, 3. , 5.2, 2. ],\n",
       "       [6.2, 3.4, 5.4, 2.3],\n",
       "       [5.9, 3. , 5.1, 1.8]])"
      ]
     },
     "execution_count": 22,
     "metadata": {},
     "output_type": "execute_result"
    }
   ],
   "source": [
    "x"
   ]
  },
  {
   "cell_type": "code",
   "execution_count": 23,
   "id": "c6139f54-4734-40dc-aa77-9530fdeddbcd",
   "metadata": {},
   "outputs": [
    {
     "data": {
      "text/plain": [
       "array([0, 0, 0, 0, 0, 0, 0, 0, 0, 0, 0, 0, 0, 0, 0, 0, 0, 0, 0, 0, 0, 0,\n",
       "       0, 0, 0, 0, 0, 0, 0, 0, 0, 0, 0, 0, 0, 0, 0, 0, 0, 0, 0, 0, 0, 0,\n",
       "       0, 0, 0, 0, 0, 0, 1, 1, 1, 1, 1, 1, 1, 1, 1, 1, 1, 1, 1, 1, 1, 1,\n",
       "       1, 1, 1, 1, 1, 1, 1, 1, 1, 1, 1, 1, 1, 1, 1, 1, 1, 1, 1, 1, 1, 1,\n",
       "       1, 1, 1, 1, 1, 1, 1, 1, 1, 1, 1, 1, 2, 2, 2, 2, 2, 2, 2, 2, 2, 2,\n",
       "       2, 2, 2, 2, 2, 2, 2, 2, 2, 2, 2, 2, 2, 2, 2, 2, 2, 2, 2, 2, 2, 2,\n",
       "       2, 2, 2, 2, 2, 2, 2, 2, 2, 2, 2, 2, 2, 2, 2, 2, 2, 2])"
      ]
     },
     "execution_count": 23,
     "metadata": {},
     "output_type": "execute_result"
    }
   ],
   "source": [
    "y"
   ]
  },
  {
   "cell_type": "code",
   "execution_count": 24,
   "id": "764bf613-8ddc-4e03-91dc-4c37cf8113c4",
   "metadata": {},
   "outputs": [
    {
     "data": {
      "text/plain": [
       "{'data': array([[5.1, 3.5, 1.4, 0.2],\n",
       "        [4.9, 3. , 1.4, 0.2],\n",
       "        [4.7, 3.2, 1.3, 0.2],\n",
       "        [4.6, 3.1, 1.5, 0.2],\n",
       "        [5. , 3.6, 1.4, 0.2],\n",
       "        [5.4, 3.9, 1.7, 0.4],\n",
       "        [4.6, 3.4, 1.4, 0.3],\n",
       "        [5. , 3.4, 1.5, 0.2],\n",
       "        [4.4, 2.9, 1.4, 0.2],\n",
       "        [4.9, 3.1, 1.5, 0.1],\n",
       "        [5.4, 3.7, 1.5, 0.2],\n",
       "        [4.8, 3.4, 1.6, 0.2],\n",
       "        [4.8, 3. , 1.4, 0.1],\n",
       "        [4.3, 3. , 1.1, 0.1],\n",
       "        [5.8, 4. , 1.2, 0.2],\n",
       "        [5.7, 4.4, 1.5, 0.4],\n",
       "        [5.4, 3.9, 1.3, 0.4],\n",
       "        [5.1, 3.5, 1.4, 0.3],\n",
       "        [5.7, 3.8, 1.7, 0.3],\n",
       "        [5.1, 3.8, 1.5, 0.3],\n",
       "        [5.4, 3.4, 1.7, 0.2],\n",
       "        [5.1, 3.7, 1.5, 0.4],\n",
       "        [4.6, 3.6, 1. , 0.2],\n",
       "        [5.1, 3.3, 1.7, 0.5],\n",
       "        [4.8, 3.4, 1.9, 0.2],\n",
       "        [5. , 3. , 1.6, 0.2],\n",
       "        [5. , 3.4, 1.6, 0.4],\n",
       "        [5.2, 3.5, 1.5, 0.2],\n",
       "        [5.2, 3.4, 1.4, 0.2],\n",
       "        [4.7, 3.2, 1.6, 0.2],\n",
       "        [4.8, 3.1, 1.6, 0.2],\n",
       "        [5.4, 3.4, 1.5, 0.4],\n",
       "        [5.2, 4.1, 1.5, 0.1],\n",
       "        [5.5, 4.2, 1.4, 0.2],\n",
       "        [4.9, 3.1, 1.5, 0.2],\n",
       "        [5. , 3.2, 1.2, 0.2],\n",
       "        [5.5, 3.5, 1.3, 0.2],\n",
       "        [4.9, 3.6, 1.4, 0.1],\n",
       "        [4.4, 3. , 1.3, 0.2],\n",
       "        [5.1, 3.4, 1.5, 0.2],\n",
       "        [5. , 3.5, 1.3, 0.3],\n",
       "        [4.5, 2.3, 1.3, 0.3],\n",
       "        [4.4, 3.2, 1.3, 0.2],\n",
       "        [5. , 3.5, 1.6, 0.6],\n",
       "        [5.1, 3.8, 1.9, 0.4],\n",
       "        [4.8, 3. , 1.4, 0.3],\n",
       "        [5.1, 3.8, 1.6, 0.2],\n",
       "        [4.6, 3.2, 1.4, 0.2],\n",
       "        [5.3, 3.7, 1.5, 0.2],\n",
       "        [5. , 3.3, 1.4, 0.2],\n",
       "        [7. , 3.2, 4.7, 1.4],\n",
       "        [6.4, 3.2, 4.5, 1.5],\n",
       "        [6.9, 3.1, 4.9, 1.5],\n",
       "        [5.5, 2.3, 4. , 1.3],\n",
       "        [6.5, 2.8, 4.6, 1.5],\n",
       "        [5.7, 2.8, 4.5, 1.3],\n",
       "        [6.3, 3.3, 4.7, 1.6],\n",
       "        [4.9, 2.4, 3.3, 1. ],\n",
       "        [6.6, 2.9, 4.6, 1.3],\n",
       "        [5.2, 2.7, 3.9, 1.4],\n",
       "        [5. , 2. , 3.5, 1. ],\n",
       "        [5.9, 3. , 4.2, 1.5],\n",
       "        [6. , 2.2, 4. , 1. ],\n",
       "        [6.1, 2.9, 4.7, 1.4],\n",
       "        [5.6, 2.9, 3.6, 1.3],\n",
       "        [6.7, 3.1, 4.4, 1.4],\n",
       "        [5.6, 3. , 4.5, 1.5],\n",
       "        [5.8, 2.7, 4.1, 1. ],\n",
       "        [6.2, 2.2, 4.5, 1.5],\n",
       "        [5.6, 2.5, 3.9, 1.1],\n",
       "        [5.9, 3.2, 4.8, 1.8],\n",
       "        [6.1, 2.8, 4. , 1.3],\n",
       "        [6.3, 2.5, 4.9, 1.5],\n",
       "        [6.1, 2.8, 4.7, 1.2],\n",
       "        [6.4, 2.9, 4.3, 1.3],\n",
       "        [6.6, 3. , 4.4, 1.4],\n",
       "        [6.8, 2.8, 4.8, 1.4],\n",
       "        [6.7, 3. , 5. , 1.7],\n",
       "        [6. , 2.9, 4.5, 1.5],\n",
       "        [5.7, 2.6, 3.5, 1. ],\n",
       "        [5.5, 2.4, 3.8, 1.1],\n",
       "        [5.5, 2.4, 3.7, 1. ],\n",
       "        [5.8, 2.7, 3.9, 1.2],\n",
       "        [6. , 2.7, 5.1, 1.6],\n",
       "        [5.4, 3. , 4.5, 1.5],\n",
       "        [6. , 3.4, 4.5, 1.6],\n",
       "        [6.7, 3.1, 4.7, 1.5],\n",
       "        [6.3, 2.3, 4.4, 1.3],\n",
       "        [5.6, 3. , 4.1, 1.3],\n",
       "        [5.5, 2.5, 4. , 1.3],\n",
       "        [5.5, 2.6, 4.4, 1.2],\n",
       "        [6.1, 3. , 4.6, 1.4],\n",
       "        [5.8, 2.6, 4. , 1.2],\n",
       "        [5. , 2.3, 3.3, 1. ],\n",
       "        [5.6, 2.7, 4.2, 1.3],\n",
       "        [5.7, 3. , 4.2, 1.2],\n",
       "        [5.7, 2.9, 4.2, 1.3],\n",
       "        [6.2, 2.9, 4.3, 1.3],\n",
       "        [5.1, 2.5, 3. , 1.1],\n",
       "        [5.7, 2.8, 4.1, 1.3],\n",
       "        [6.3, 3.3, 6. , 2.5],\n",
       "        [5.8, 2.7, 5.1, 1.9],\n",
       "        [7.1, 3. , 5.9, 2.1],\n",
       "        [6.3, 2.9, 5.6, 1.8],\n",
       "        [6.5, 3. , 5.8, 2.2],\n",
       "        [7.6, 3. , 6.6, 2.1],\n",
       "        [4.9, 2.5, 4.5, 1.7],\n",
       "        [7.3, 2.9, 6.3, 1.8],\n",
       "        [6.7, 2.5, 5.8, 1.8],\n",
       "        [7.2, 3.6, 6.1, 2.5],\n",
       "        [6.5, 3.2, 5.1, 2. ],\n",
       "        [6.4, 2.7, 5.3, 1.9],\n",
       "        [6.8, 3. , 5.5, 2.1],\n",
       "        [5.7, 2.5, 5. , 2. ],\n",
       "        [5.8, 2.8, 5.1, 2.4],\n",
       "        [6.4, 3.2, 5.3, 2.3],\n",
       "        [6.5, 3. , 5.5, 1.8],\n",
       "        [7.7, 3.8, 6.7, 2.2],\n",
       "        [7.7, 2.6, 6.9, 2.3],\n",
       "        [6. , 2.2, 5. , 1.5],\n",
       "        [6.9, 3.2, 5.7, 2.3],\n",
       "        [5.6, 2.8, 4.9, 2. ],\n",
       "        [7.7, 2.8, 6.7, 2. ],\n",
       "        [6.3, 2.7, 4.9, 1.8],\n",
       "        [6.7, 3.3, 5.7, 2.1],\n",
       "        [7.2, 3.2, 6. , 1.8],\n",
       "        [6.2, 2.8, 4.8, 1.8],\n",
       "        [6.1, 3. , 4.9, 1.8],\n",
       "        [6.4, 2.8, 5.6, 2.1],\n",
       "        [7.2, 3. , 5.8, 1.6],\n",
       "        [7.4, 2.8, 6.1, 1.9],\n",
       "        [7.9, 3.8, 6.4, 2. ],\n",
       "        [6.4, 2.8, 5.6, 2.2],\n",
       "        [6.3, 2.8, 5.1, 1.5],\n",
       "        [6.1, 2.6, 5.6, 1.4],\n",
       "        [7.7, 3. , 6.1, 2.3],\n",
       "        [6.3, 3.4, 5.6, 2.4],\n",
       "        [6.4, 3.1, 5.5, 1.8],\n",
       "        [6. , 3. , 4.8, 1.8],\n",
       "        [6.9, 3.1, 5.4, 2.1],\n",
       "        [6.7, 3.1, 5.6, 2.4],\n",
       "        [6.9, 3.1, 5.1, 2.3],\n",
       "        [5.8, 2.7, 5.1, 1.9],\n",
       "        [6.8, 3.2, 5.9, 2.3],\n",
       "        [6.7, 3.3, 5.7, 2.5],\n",
       "        [6.7, 3. , 5.2, 2.3],\n",
       "        [6.3, 2.5, 5. , 1.9],\n",
       "        [6.5, 3. , 5.2, 2. ],\n",
       "        [6.2, 3.4, 5.4, 2.3],\n",
       "        [5.9, 3. , 5.1, 1.8]]),\n",
       " 'target': array([0, 0, 0, 0, 0, 0, 0, 0, 0, 0, 0, 0, 0, 0, 0, 0, 0, 0, 0, 0, 0, 0,\n",
       "        0, 0, 0, 0, 0, 0, 0, 0, 0, 0, 0, 0, 0, 0, 0, 0, 0, 0, 0, 0, 0, 0,\n",
       "        0, 0, 0, 0, 0, 0, 1, 1, 1, 1, 1, 1, 1, 1, 1, 1, 1, 1, 1, 1, 1, 1,\n",
       "        1, 1, 1, 1, 1, 1, 1, 1, 1, 1, 1, 1, 1, 1, 1, 1, 1, 1, 1, 1, 1, 1,\n",
       "        1, 1, 1, 1, 1, 1, 1, 1, 1, 1, 1, 1, 2, 2, 2, 2, 2, 2, 2, 2, 2, 2,\n",
       "        2, 2, 2, 2, 2, 2, 2, 2, 2, 2, 2, 2, 2, 2, 2, 2, 2, 2, 2, 2, 2, 2,\n",
       "        2, 2, 2, 2, 2, 2, 2, 2, 2, 2, 2, 2, 2, 2, 2, 2, 2, 2]),\n",
       " 'frame': None,\n",
       " 'target_names': array(['setosa', 'versicolor', 'virginica'], dtype='<U10'),\n",
       " 'DESCR': '.. _iris_dataset:\\n\\nIris plants dataset\\n--------------------\\n\\n**Data Set Characteristics:**\\n\\n    :Number of Instances: 150 (50 in each of three classes)\\n    :Number of Attributes: 4 numeric, predictive attributes and the class\\n    :Attribute Information:\\n        - sepal length in cm\\n        - sepal width in cm\\n        - petal length in cm\\n        - petal width in cm\\n        - class:\\n                - Iris-Setosa\\n                - Iris-Versicolour\\n                - Iris-Virginica\\n                \\n    :Summary Statistics:\\n\\n    ============== ==== ==== ======= ===== ====================\\n                    Min  Max   Mean    SD   Class Correlation\\n    ============== ==== ==== ======= ===== ====================\\n    sepal length:   4.3  7.9   5.84   0.83    0.7826\\n    sepal width:    2.0  4.4   3.05   0.43   -0.4194\\n    petal length:   1.0  6.9   3.76   1.76    0.9490  (high!)\\n    petal width:    0.1  2.5   1.20   0.76    0.9565  (high!)\\n    ============== ==== ==== ======= ===== ====================\\n\\n    :Missing Attribute Values: None\\n    :Class Distribution: 33.3% for each of 3 classes.\\n    :Creator: R.A. Fisher\\n    :Donor: Michael Marshall (MARSHALL%PLU@io.arc.nasa.gov)\\n    :Date: July, 1988\\n\\nThe famous Iris database, first used by Sir R.A. Fisher. The dataset is taken\\nfrom Fisher\\'s paper. Note that it\\'s the same as in R, but not as in the UCI\\nMachine Learning Repository, which has two wrong data points.\\n\\nThis is perhaps the best known database to be found in the\\npattern recognition literature.  Fisher\\'s paper is a classic in the field and\\nis referenced frequently to this day.  (See Duda & Hart, for example.)  The\\ndata set contains 3 classes of 50 instances each, where each class refers to a\\ntype of iris plant.  One class is linearly separable from the other 2; the\\nlatter are NOT linearly separable from each other.\\n\\n.. topic:: References\\n\\n   - Fisher, R.A. \"The use of multiple measurements in taxonomic problems\"\\n     Annual Eugenics, 7, Part II, 179-188 (1936); also in \"Contributions to\\n     Mathematical Statistics\" (John Wiley, NY, 1950).\\n   - Duda, R.O., & Hart, P.E. (1973) Pattern Classification and Scene Analysis.\\n     (Q327.D83) John Wiley & Sons.  ISBN 0-471-22361-1.  See page 218.\\n   - Dasarathy, B.V. (1980) \"Nosing Around the Neighborhood: A New System\\n     Structure and Classification Rule for Recognition in Partially Exposed\\n     Environments\".  IEEE Transactions on Pattern Analysis and Machine\\n     Intelligence, Vol. PAMI-2, No. 1, 67-71.\\n   - Gates, G.W. (1972) \"The Reduced Nearest Neighbor Rule\".  IEEE Transactions\\n     on Information Theory, May 1972, 431-433.\\n   - See also: 1988 MLC Proceedings, 54-64.  Cheeseman et al\"s AUTOCLASS II\\n     conceptual clustering system finds 3 classes in the data.\\n   - Many, many more ...',\n",
       " 'feature_names': ['sepal length (cm)',\n",
       "  'sepal width (cm)',\n",
       "  'petal length (cm)',\n",
       "  'petal width (cm)'],\n",
       " 'filename': 'iris.csv',\n",
       " 'data_module': 'sklearn.datasets.data'}"
      ]
     },
     "execution_count": 24,
     "metadata": {},
     "output_type": "execute_result"
    }
   ],
   "source": [
    "data"
   ]
  },
  {
   "cell_type": "code",
   "execution_count": 25,
   "id": "fea2db68-fd34-4398-aacb-01c24a375485",
   "metadata": {},
   "outputs": [],
   "source": [
    "from sklearn.model_selection import train_test_split\n",
    "x_train, x_test,y_train,y_test=train_test_split(x,y,test_size=0.2,random_state=42)"
   ]
  },
  {
   "cell_type": "code",
   "execution_count": 27,
   "id": "252c9df3-ea3c-420b-b8c3-79ec744cf2b9",
   "metadata": {},
   "outputs": [],
   "source": [
    "from sklearn.impute import SimpleImputer\n",
    "imputer=SimpleImputer(strategy='mean')\n",
    "x_imputed=imputer.fit_transform(x)"
   ]
  },
  {
   "cell_type": "code",
   "execution_count": 30,
   "id": "ff2c5a58-ff29-415e-b8f6-5e98f672f53d",
   "metadata": {},
   "outputs": [],
   "source": [
    "from sklearn.preprocessing import StandardScaler\n",
    "scaler=StandardScaler()\n",
    "x_scaled=scaler.fit_transform(x)"
   ]
  },
  {
   "cell_type": "code",
   "execution_count": 31,
   "id": "1048c9b8-6de7-49fb-a9cb-6c82b1cd08ae",
   "metadata": {},
   "outputs": [
    {
     "data": {
      "text/plain": [
       "array([[-9.00681170e-01,  1.01900435e+00, -1.34022653e+00,\n",
       "        -1.31544430e+00],\n",
       "       [-1.14301691e+00, -1.31979479e-01, -1.34022653e+00,\n",
       "        -1.31544430e+00],\n",
       "       [-1.38535265e+00,  3.28414053e-01, -1.39706395e+00,\n",
       "        -1.31544430e+00],\n",
       "       [-1.50652052e+00,  9.82172869e-02, -1.28338910e+00,\n",
       "        -1.31544430e+00],\n",
       "       [-1.02184904e+00,  1.24920112e+00, -1.34022653e+00,\n",
       "        -1.31544430e+00],\n",
       "       [-5.37177559e-01,  1.93979142e+00, -1.16971425e+00,\n",
       "        -1.05217993e+00],\n",
       "       [-1.50652052e+00,  7.88807586e-01, -1.34022653e+00,\n",
       "        -1.18381211e+00],\n",
       "       [-1.02184904e+00,  7.88807586e-01, -1.28338910e+00,\n",
       "        -1.31544430e+00],\n",
       "       [-1.74885626e+00, -3.62176246e-01, -1.34022653e+00,\n",
       "        -1.31544430e+00],\n",
       "       [-1.14301691e+00,  9.82172869e-02, -1.28338910e+00,\n",
       "        -1.44707648e+00],\n",
       "       [-5.37177559e-01,  1.47939788e+00, -1.28338910e+00,\n",
       "        -1.31544430e+00],\n",
       "       [-1.26418478e+00,  7.88807586e-01, -1.22655167e+00,\n",
       "        -1.31544430e+00],\n",
       "       [-1.26418478e+00, -1.31979479e-01, -1.34022653e+00,\n",
       "        -1.44707648e+00],\n",
       "       [-1.87002413e+00, -1.31979479e-01, -1.51073881e+00,\n",
       "        -1.44707648e+00],\n",
       "       [-5.25060772e-02,  2.16998818e+00, -1.45390138e+00,\n",
       "        -1.31544430e+00],\n",
       "       [-1.73673948e-01,  3.09077525e+00, -1.28338910e+00,\n",
       "        -1.05217993e+00],\n",
       "       [-5.37177559e-01,  1.93979142e+00, -1.39706395e+00,\n",
       "        -1.05217993e+00],\n",
       "       [-9.00681170e-01,  1.01900435e+00, -1.34022653e+00,\n",
       "        -1.18381211e+00],\n",
       "       [-1.73673948e-01,  1.70959465e+00, -1.16971425e+00,\n",
       "        -1.18381211e+00],\n",
       "       [-9.00681170e-01,  1.70959465e+00, -1.28338910e+00,\n",
       "        -1.18381211e+00],\n",
       "       [-5.37177559e-01,  7.88807586e-01, -1.16971425e+00,\n",
       "        -1.31544430e+00],\n",
       "       [-9.00681170e-01,  1.47939788e+00, -1.28338910e+00,\n",
       "        -1.05217993e+00],\n",
       "       [-1.50652052e+00,  1.24920112e+00, -1.56757623e+00,\n",
       "        -1.31544430e+00],\n",
       "       [-9.00681170e-01,  5.58610819e-01, -1.16971425e+00,\n",
       "        -9.20547742e-01],\n",
       "       [-1.26418478e+00,  7.88807586e-01, -1.05603939e+00,\n",
       "        -1.31544430e+00],\n",
       "       [-1.02184904e+00, -1.31979479e-01, -1.22655167e+00,\n",
       "        -1.31544430e+00],\n",
       "       [-1.02184904e+00,  7.88807586e-01, -1.22655167e+00,\n",
       "        -1.05217993e+00],\n",
       "       [-7.79513300e-01,  1.01900435e+00, -1.28338910e+00,\n",
       "        -1.31544430e+00],\n",
       "       [-7.79513300e-01,  7.88807586e-01, -1.34022653e+00,\n",
       "        -1.31544430e+00],\n",
       "       [-1.38535265e+00,  3.28414053e-01, -1.22655167e+00,\n",
       "        -1.31544430e+00],\n",
       "       [-1.26418478e+00,  9.82172869e-02, -1.22655167e+00,\n",
       "        -1.31544430e+00],\n",
       "       [-5.37177559e-01,  7.88807586e-01, -1.28338910e+00,\n",
       "        -1.05217993e+00],\n",
       "       [-7.79513300e-01,  2.40018495e+00, -1.28338910e+00,\n",
       "        -1.44707648e+00],\n",
       "       [-4.16009689e-01,  2.63038172e+00, -1.34022653e+00,\n",
       "        -1.31544430e+00],\n",
       "       [-1.14301691e+00,  9.82172869e-02, -1.28338910e+00,\n",
       "        -1.31544430e+00],\n",
       "       [-1.02184904e+00,  3.28414053e-01, -1.45390138e+00,\n",
       "        -1.31544430e+00],\n",
       "       [-4.16009689e-01,  1.01900435e+00, -1.39706395e+00,\n",
       "        -1.31544430e+00],\n",
       "       [-1.14301691e+00,  1.24920112e+00, -1.34022653e+00,\n",
       "        -1.44707648e+00],\n",
       "       [-1.74885626e+00, -1.31979479e-01, -1.39706395e+00,\n",
       "        -1.31544430e+00],\n",
       "       [-9.00681170e-01,  7.88807586e-01, -1.28338910e+00,\n",
       "        -1.31544430e+00],\n",
       "       [-1.02184904e+00,  1.01900435e+00, -1.39706395e+00,\n",
       "        -1.18381211e+00],\n",
       "       [-1.62768839e+00, -1.74335684e+00, -1.39706395e+00,\n",
       "        -1.18381211e+00],\n",
       "       [-1.74885626e+00,  3.28414053e-01, -1.39706395e+00,\n",
       "        -1.31544430e+00],\n",
       "       [-1.02184904e+00,  1.01900435e+00, -1.22655167e+00,\n",
       "        -7.88915558e-01],\n",
       "       [-9.00681170e-01,  1.70959465e+00, -1.05603939e+00,\n",
       "        -1.05217993e+00],\n",
       "       [-1.26418478e+00, -1.31979479e-01, -1.34022653e+00,\n",
       "        -1.18381211e+00],\n",
       "       [-9.00681170e-01,  1.70959465e+00, -1.22655167e+00,\n",
       "        -1.31544430e+00],\n",
       "       [-1.50652052e+00,  3.28414053e-01, -1.34022653e+00,\n",
       "        -1.31544430e+00],\n",
       "       [-6.58345429e-01,  1.47939788e+00, -1.28338910e+00,\n",
       "        -1.31544430e+00],\n",
       "       [-1.02184904e+00,  5.58610819e-01, -1.34022653e+00,\n",
       "        -1.31544430e+00],\n",
       "       [ 1.40150837e+00,  3.28414053e-01,  5.35408562e-01,\n",
       "         2.64141916e-01],\n",
       "       [ 6.74501145e-01,  3.28414053e-01,  4.21733708e-01,\n",
       "         3.95774101e-01],\n",
       "       [ 1.28034050e+00,  9.82172869e-02,  6.49083415e-01,\n",
       "         3.95774101e-01],\n",
       "       [-4.16009689e-01, -1.74335684e+00,  1.37546573e-01,\n",
       "         1.32509732e-01],\n",
       "       [ 7.95669016e-01, -5.92373012e-01,  4.78571135e-01,\n",
       "         3.95774101e-01],\n",
       "       [-1.73673948e-01, -5.92373012e-01,  4.21733708e-01,\n",
       "         1.32509732e-01],\n",
       "       [ 5.53333275e-01,  5.58610819e-01,  5.35408562e-01,\n",
       "         5.27406285e-01],\n",
       "       [-1.14301691e+00, -1.51316008e+00, -2.60315415e-01,\n",
       "        -2.62386821e-01],\n",
       "       [ 9.16836886e-01, -3.62176246e-01,  4.78571135e-01,\n",
       "         1.32509732e-01],\n",
       "       [-7.79513300e-01, -8.22569778e-01,  8.07091462e-02,\n",
       "         2.64141916e-01],\n",
       "       [-1.02184904e+00, -2.43394714e+00, -1.46640561e-01,\n",
       "        -2.62386821e-01],\n",
       "       [ 6.86617933e-02, -1.31979479e-01,  2.51221427e-01,\n",
       "         3.95774101e-01],\n",
       "       [ 1.89829664e-01, -1.97355361e+00,  1.37546573e-01,\n",
       "        -2.62386821e-01],\n",
       "       [ 3.10997534e-01, -3.62176246e-01,  5.35408562e-01,\n",
       "         2.64141916e-01],\n",
       "       [-2.94841818e-01, -3.62176246e-01, -8.98031345e-02,\n",
       "         1.32509732e-01],\n",
       "       [ 1.03800476e+00,  9.82172869e-02,  3.64896281e-01,\n",
       "         2.64141916e-01],\n",
       "       [-2.94841818e-01, -1.31979479e-01,  4.21733708e-01,\n",
       "         3.95774101e-01],\n",
       "       [-5.25060772e-02, -8.22569778e-01,  1.94384000e-01,\n",
       "        -2.62386821e-01],\n",
       "       [ 4.32165405e-01, -1.97355361e+00,  4.21733708e-01,\n",
       "         3.95774101e-01],\n",
       "       [-2.94841818e-01, -1.28296331e+00,  8.07091462e-02,\n",
       "        -1.30754636e-01],\n",
       "       [ 6.86617933e-02,  3.28414053e-01,  5.92245988e-01,\n",
       "         7.90670654e-01],\n",
       "       [ 3.10997534e-01, -5.92373012e-01,  1.37546573e-01,\n",
       "         1.32509732e-01],\n",
       "       [ 5.53333275e-01, -1.28296331e+00,  6.49083415e-01,\n",
       "         3.95774101e-01],\n",
       "       [ 3.10997534e-01, -5.92373012e-01,  5.35408562e-01,\n",
       "         8.77547895e-04],\n",
       "       [ 6.74501145e-01, -3.62176246e-01,  3.08058854e-01,\n",
       "         1.32509732e-01],\n",
       "       [ 9.16836886e-01, -1.31979479e-01,  3.64896281e-01,\n",
       "         2.64141916e-01],\n",
       "       [ 1.15917263e+00, -5.92373012e-01,  5.92245988e-01,\n",
       "         2.64141916e-01],\n",
       "       [ 1.03800476e+00, -1.31979479e-01,  7.05920842e-01,\n",
       "         6.59038469e-01],\n",
       "       [ 1.89829664e-01, -3.62176246e-01,  4.21733708e-01,\n",
       "         3.95774101e-01],\n",
       "       [-1.73673948e-01, -1.05276654e+00, -1.46640561e-01,\n",
       "        -2.62386821e-01],\n",
       "       [-4.16009689e-01, -1.51316008e+00,  2.38717193e-02,\n",
       "        -1.30754636e-01],\n",
       "       [-4.16009689e-01, -1.51316008e+00, -3.29657076e-02,\n",
       "        -2.62386821e-01],\n",
       "       [-5.25060772e-02, -8.22569778e-01,  8.07091462e-02,\n",
       "         8.77547895e-04],\n",
       "       [ 1.89829664e-01, -8.22569778e-01,  7.62758269e-01,\n",
       "         5.27406285e-01],\n",
       "       [-5.37177559e-01, -1.31979479e-01,  4.21733708e-01,\n",
       "         3.95774101e-01],\n",
       "       [ 1.89829664e-01,  7.88807586e-01,  4.21733708e-01,\n",
       "         5.27406285e-01],\n",
       "       [ 1.03800476e+00,  9.82172869e-02,  5.35408562e-01,\n",
       "         3.95774101e-01],\n",
       "       [ 5.53333275e-01, -1.74335684e+00,  3.64896281e-01,\n",
       "         1.32509732e-01],\n",
       "       [-2.94841818e-01, -1.31979479e-01,  1.94384000e-01,\n",
       "         1.32509732e-01],\n",
       "       [-4.16009689e-01, -1.28296331e+00,  1.37546573e-01,\n",
       "         1.32509732e-01],\n",
       "       [-4.16009689e-01, -1.05276654e+00,  3.64896281e-01,\n",
       "         8.77547895e-04],\n",
       "       [ 3.10997534e-01, -1.31979479e-01,  4.78571135e-01,\n",
       "         2.64141916e-01],\n",
       "       [-5.25060772e-02, -1.05276654e+00,  1.37546573e-01,\n",
       "         8.77547895e-04],\n",
       "       [-1.02184904e+00, -1.74335684e+00, -2.60315415e-01,\n",
       "        -2.62386821e-01],\n",
       "       [-2.94841818e-01, -8.22569778e-01,  2.51221427e-01,\n",
       "         1.32509732e-01],\n",
       "       [-1.73673948e-01, -1.31979479e-01,  2.51221427e-01,\n",
       "         8.77547895e-04],\n",
       "       [-1.73673948e-01, -3.62176246e-01,  2.51221427e-01,\n",
       "         1.32509732e-01],\n",
       "       [ 4.32165405e-01, -3.62176246e-01,  3.08058854e-01,\n",
       "         1.32509732e-01],\n",
       "       [-9.00681170e-01, -1.28296331e+00, -4.30827696e-01,\n",
       "        -1.30754636e-01],\n",
       "       [-1.73673948e-01, -5.92373012e-01,  1.94384000e-01,\n",
       "         1.32509732e-01],\n",
       "       [ 5.53333275e-01,  5.58610819e-01,  1.27429511e+00,\n",
       "         1.71209594e+00],\n",
       "       [-5.25060772e-02, -8.22569778e-01,  7.62758269e-01,\n",
       "         9.22302838e-01],\n",
       "       [ 1.52267624e+00, -1.31979479e-01,  1.21745768e+00,\n",
       "         1.18556721e+00],\n",
       "       [ 5.53333275e-01, -3.62176246e-01,  1.04694540e+00,\n",
       "         7.90670654e-01],\n",
       "       [ 7.95669016e-01, -1.31979479e-01,  1.16062026e+00,\n",
       "         1.31719939e+00],\n",
       "       [ 2.12851559e+00, -1.31979479e-01,  1.61531967e+00,\n",
       "         1.18556721e+00],\n",
       "       [-1.14301691e+00, -1.28296331e+00,  4.21733708e-01,\n",
       "         6.59038469e-01],\n",
       "       [ 1.76501198e+00, -3.62176246e-01,  1.44480739e+00,\n",
       "         7.90670654e-01],\n",
       "       [ 1.03800476e+00, -1.28296331e+00,  1.16062026e+00,\n",
       "         7.90670654e-01],\n",
       "       [ 1.64384411e+00,  1.24920112e+00,  1.33113254e+00,\n",
       "         1.71209594e+00],\n",
       "       [ 7.95669016e-01,  3.28414053e-01,  7.62758269e-01,\n",
       "         1.05393502e+00],\n",
       "       [ 6.74501145e-01, -8.22569778e-01,  8.76433123e-01,\n",
       "         9.22302838e-01],\n",
       "       [ 1.15917263e+00, -1.31979479e-01,  9.90107977e-01,\n",
       "         1.18556721e+00],\n",
       "       [-1.73673948e-01, -1.28296331e+00,  7.05920842e-01,\n",
       "         1.05393502e+00],\n",
       "       [-5.25060772e-02, -5.92373012e-01,  7.62758269e-01,\n",
       "         1.58046376e+00],\n",
       "       [ 6.74501145e-01,  3.28414053e-01,  8.76433123e-01,\n",
       "         1.44883158e+00],\n",
       "       [ 7.95669016e-01, -1.31979479e-01,  9.90107977e-01,\n",
       "         7.90670654e-01],\n",
       "       [ 2.24968346e+00,  1.70959465e+00,  1.67215710e+00,\n",
       "         1.31719939e+00],\n",
       "       [ 2.24968346e+00, -1.05276654e+00,  1.78583195e+00,\n",
       "         1.44883158e+00],\n",
       "       [ 1.89829664e-01, -1.97355361e+00,  7.05920842e-01,\n",
       "         3.95774101e-01],\n",
       "       [ 1.28034050e+00,  3.28414053e-01,  1.10378283e+00,\n",
       "         1.44883158e+00],\n",
       "       [-2.94841818e-01, -5.92373012e-01,  6.49083415e-01,\n",
       "         1.05393502e+00],\n",
       "       [ 2.24968346e+00, -5.92373012e-01,  1.67215710e+00,\n",
       "         1.05393502e+00],\n",
       "       [ 5.53333275e-01, -8.22569778e-01,  6.49083415e-01,\n",
       "         7.90670654e-01],\n",
       "       [ 1.03800476e+00,  5.58610819e-01,  1.10378283e+00,\n",
       "         1.18556721e+00],\n",
       "       [ 1.64384411e+00,  3.28414053e-01,  1.27429511e+00,\n",
       "         7.90670654e-01],\n",
       "       [ 4.32165405e-01, -5.92373012e-01,  5.92245988e-01,\n",
       "         7.90670654e-01],\n",
       "       [ 3.10997534e-01, -1.31979479e-01,  6.49083415e-01,\n",
       "         7.90670654e-01],\n",
       "       [ 6.74501145e-01, -5.92373012e-01,  1.04694540e+00,\n",
       "         1.18556721e+00],\n",
       "       [ 1.64384411e+00, -1.31979479e-01,  1.16062026e+00,\n",
       "         5.27406285e-01],\n",
       "       [ 1.88617985e+00, -5.92373012e-01,  1.33113254e+00,\n",
       "         9.22302838e-01],\n",
       "       [ 2.49201920e+00,  1.70959465e+00,  1.50164482e+00,\n",
       "         1.05393502e+00],\n",
       "       [ 6.74501145e-01, -5.92373012e-01,  1.04694540e+00,\n",
       "         1.31719939e+00],\n",
       "       [ 5.53333275e-01, -5.92373012e-01,  7.62758269e-01,\n",
       "         3.95774101e-01],\n",
       "       [ 3.10997534e-01, -1.05276654e+00,  1.04694540e+00,\n",
       "         2.64141916e-01],\n",
       "       [ 2.24968346e+00, -1.31979479e-01,  1.33113254e+00,\n",
       "         1.44883158e+00],\n",
       "       [ 5.53333275e-01,  7.88807586e-01,  1.04694540e+00,\n",
       "         1.58046376e+00],\n",
       "       [ 6.74501145e-01,  9.82172869e-02,  9.90107977e-01,\n",
       "         7.90670654e-01],\n",
       "       [ 1.89829664e-01, -1.31979479e-01,  5.92245988e-01,\n",
       "         7.90670654e-01],\n",
       "       [ 1.28034050e+00,  9.82172869e-02,  9.33270550e-01,\n",
       "         1.18556721e+00],\n",
       "       [ 1.03800476e+00,  9.82172869e-02,  1.04694540e+00,\n",
       "         1.58046376e+00],\n",
       "       [ 1.28034050e+00,  9.82172869e-02,  7.62758269e-01,\n",
       "         1.44883158e+00],\n",
       "       [-5.25060772e-02, -8.22569778e-01,  7.62758269e-01,\n",
       "         9.22302838e-01],\n",
       "       [ 1.15917263e+00,  3.28414053e-01,  1.21745768e+00,\n",
       "         1.44883158e+00],\n",
       "       [ 1.03800476e+00,  5.58610819e-01,  1.10378283e+00,\n",
       "         1.71209594e+00],\n",
       "       [ 1.03800476e+00, -1.31979479e-01,  8.19595696e-01,\n",
       "         1.44883158e+00],\n",
       "       [ 5.53333275e-01, -1.28296331e+00,  7.05920842e-01,\n",
       "         9.22302838e-01],\n",
       "       [ 7.95669016e-01, -1.31979479e-01,  8.19595696e-01,\n",
       "         1.05393502e+00],\n",
       "       [ 4.32165405e-01,  7.88807586e-01,  9.33270550e-01,\n",
       "         1.44883158e+00],\n",
       "       [ 6.86617933e-02, -1.31979479e-01,  7.62758269e-01,\n",
       "         7.90670654e-01]])"
      ]
     },
     "execution_count": 31,
     "metadata": {},
     "output_type": "execute_result"
    }
   ],
   "source": [
    "x_scaled"
   ]
  },
  {
   "cell_type": "code",
   "execution_count": 32,
   "id": "45cdd405-3fd2-41af-b7a0-40c352d4fe4a",
   "metadata": {},
   "outputs": [],
   "source": [
    "from sklearn.preprocessing import MinMaxScaler\n",
    "scaler=MinMaxScaler()\n",
    "x_scaled=scaler.fit_transform(x)"
   ]
  },
  {
   "cell_type": "code",
   "execution_count": 33,
   "id": "02cf0416-c924-4cfa-90cc-c3768276e06f",
   "metadata": {},
   "outputs": [
    {
     "data": {
      "text/plain": [
       "array([[0.22222222, 0.625     , 0.06779661, 0.04166667],\n",
       "       [0.16666667, 0.41666667, 0.06779661, 0.04166667],\n",
       "       [0.11111111, 0.5       , 0.05084746, 0.04166667],\n",
       "       [0.08333333, 0.45833333, 0.08474576, 0.04166667],\n",
       "       [0.19444444, 0.66666667, 0.06779661, 0.04166667],\n",
       "       [0.30555556, 0.79166667, 0.11864407, 0.125     ],\n",
       "       [0.08333333, 0.58333333, 0.06779661, 0.08333333],\n",
       "       [0.19444444, 0.58333333, 0.08474576, 0.04166667],\n",
       "       [0.02777778, 0.375     , 0.06779661, 0.04166667],\n",
       "       [0.16666667, 0.45833333, 0.08474576, 0.        ],\n",
       "       [0.30555556, 0.70833333, 0.08474576, 0.04166667],\n",
       "       [0.13888889, 0.58333333, 0.10169492, 0.04166667],\n",
       "       [0.13888889, 0.41666667, 0.06779661, 0.        ],\n",
       "       [0.        , 0.41666667, 0.01694915, 0.        ],\n",
       "       [0.41666667, 0.83333333, 0.03389831, 0.04166667],\n",
       "       [0.38888889, 1.        , 0.08474576, 0.125     ],\n",
       "       [0.30555556, 0.79166667, 0.05084746, 0.125     ],\n",
       "       [0.22222222, 0.625     , 0.06779661, 0.08333333],\n",
       "       [0.38888889, 0.75      , 0.11864407, 0.08333333],\n",
       "       [0.22222222, 0.75      , 0.08474576, 0.08333333],\n",
       "       [0.30555556, 0.58333333, 0.11864407, 0.04166667],\n",
       "       [0.22222222, 0.70833333, 0.08474576, 0.125     ],\n",
       "       [0.08333333, 0.66666667, 0.        , 0.04166667],\n",
       "       [0.22222222, 0.54166667, 0.11864407, 0.16666667],\n",
       "       [0.13888889, 0.58333333, 0.15254237, 0.04166667],\n",
       "       [0.19444444, 0.41666667, 0.10169492, 0.04166667],\n",
       "       [0.19444444, 0.58333333, 0.10169492, 0.125     ],\n",
       "       [0.25      , 0.625     , 0.08474576, 0.04166667],\n",
       "       [0.25      , 0.58333333, 0.06779661, 0.04166667],\n",
       "       [0.11111111, 0.5       , 0.10169492, 0.04166667],\n",
       "       [0.13888889, 0.45833333, 0.10169492, 0.04166667],\n",
       "       [0.30555556, 0.58333333, 0.08474576, 0.125     ],\n",
       "       [0.25      , 0.875     , 0.08474576, 0.        ],\n",
       "       [0.33333333, 0.91666667, 0.06779661, 0.04166667],\n",
       "       [0.16666667, 0.45833333, 0.08474576, 0.04166667],\n",
       "       [0.19444444, 0.5       , 0.03389831, 0.04166667],\n",
       "       [0.33333333, 0.625     , 0.05084746, 0.04166667],\n",
       "       [0.16666667, 0.66666667, 0.06779661, 0.        ],\n",
       "       [0.02777778, 0.41666667, 0.05084746, 0.04166667],\n",
       "       [0.22222222, 0.58333333, 0.08474576, 0.04166667],\n",
       "       [0.19444444, 0.625     , 0.05084746, 0.08333333],\n",
       "       [0.05555556, 0.125     , 0.05084746, 0.08333333],\n",
       "       [0.02777778, 0.5       , 0.05084746, 0.04166667],\n",
       "       [0.19444444, 0.625     , 0.10169492, 0.20833333],\n",
       "       [0.22222222, 0.75      , 0.15254237, 0.125     ],\n",
       "       [0.13888889, 0.41666667, 0.06779661, 0.08333333],\n",
       "       [0.22222222, 0.75      , 0.10169492, 0.04166667],\n",
       "       [0.08333333, 0.5       , 0.06779661, 0.04166667],\n",
       "       [0.27777778, 0.70833333, 0.08474576, 0.04166667],\n",
       "       [0.19444444, 0.54166667, 0.06779661, 0.04166667],\n",
       "       [0.75      , 0.5       , 0.62711864, 0.54166667],\n",
       "       [0.58333333, 0.5       , 0.59322034, 0.58333333],\n",
       "       [0.72222222, 0.45833333, 0.66101695, 0.58333333],\n",
       "       [0.33333333, 0.125     , 0.50847458, 0.5       ],\n",
       "       [0.61111111, 0.33333333, 0.61016949, 0.58333333],\n",
       "       [0.38888889, 0.33333333, 0.59322034, 0.5       ],\n",
       "       [0.55555556, 0.54166667, 0.62711864, 0.625     ],\n",
       "       [0.16666667, 0.16666667, 0.38983051, 0.375     ],\n",
       "       [0.63888889, 0.375     , 0.61016949, 0.5       ],\n",
       "       [0.25      , 0.29166667, 0.49152542, 0.54166667],\n",
       "       [0.19444444, 0.        , 0.42372881, 0.375     ],\n",
       "       [0.44444444, 0.41666667, 0.54237288, 0.58333333],\n",
       "       [0.47222222, 0.08333333, 0.50847458, 0.375     ],\n",
       "       [0.5       , 0.375     , 0.62711864, 0.54166667],\n",
       "       [0.36111111, 0.375     , 0.44067797, 0.5       ],\n",
       "       [0.66666667, 0.45833333, 0.57627119, 0.54166667],\n",
       "       [0.36111111, 0.41666667, 0.59322034, 0.58333333],\n",
       "       [0.41666667, 0.29166667, 0.52542373, 0.375     ],\n",
       "       [0.52777778, 0.08333333, 0.59322034, 0.58333333],\n",
       "       [0.36111111, 0.20833333, 0.49152542, 0.41666667],\n",
       "       [0.44444444, 0.5       , 0.6440678 , 0.70833333],\n",
       "       [0.5       , 0.33333333, 0.50847458, 0.5       ],\n",
       "       [0.55555556, 0.20833333, 0.66101695, 0.58333333],\n",
       "       [0.5       , 0.33333333, 0.62711864, 0.45833333],\n",
       "       [0.58333333, 0.375     , 0.55932203, 0.5       ],\n",
       "       [0.63888889, 0.41666667, 0.57627119, 0.54166667],\n",
       "       [0.69444444, 0.33333333, 0.6440678 , 0.54166667],\n",
       "       [0.66666667, 0.41666667, 0.6779661 , 0.66666667],\n",
       "       [0.47222222, 0.375     , 0.59322034, 0.58333333],\n",
       "       [0.38888889, 0.25      , 0.42372881, 0.375     ],\n",
       "       [0.33333333, 0.16666667, 0.47457627, 0.41666667],\n",
       "       [0.33333333, 0.16666667, 0.45762712, 0.375     ],\n",
       "       [0.41666667, 0.29166667, 0.49152542, 0.45833333],\n",
       "       [0.47222222, 0.29166667, 0.69491525, 0.625     ],\n",
       "       [0.30555556, 0.41666667, 0.59322034, 0.58333333],\n",
       "       [0.47222222, 0.58333333, 0.59322034, 0.625     ],\n",
       "       [0.66666667, 0.45833333, 0.62711864, 0.58333333],\n",
       "       [0.55555556, 0.125     , 0.57627119, 0.5       ],\n",
       "       [0.36111111, 0.41666667, 0.52542373, 0.5       ],\n",
       "       [0.33333333, 0.20833333, 0.50847458, 0.5       ],\n",
       "       [0.33333333, 0.25      , 0.57627119, 0.45833333],\n",
       "       [0.5       , 0.41666667, 0.61016949, 0.54166667],\n",
       "       [0.41666667, 0.25      , 0.50847458, 0.45833333],\n",
       "       [0.19444444, 0.125     , 0.38983051, 0.375     ],\n",
       "       [0.36111111, 0.29166667, 0.54237288, 0.5       ],\n",
       "       [0.38888889, 0.41666667, 0.54237288, 0.45833333],\n",
       "       [0.38888889, 0.375     , 0.54237288, 0.5       ],\n",
       "       [0.52777778, 0.375     , 0.55932203, 0.5       ],\n",
       "       [0.22222222, 0.20833333, 0.33898305, 0.41666667],\n",
       "       [0.38888889, 0.33333333, 0.52542373, 0.5       ],\n",
       "       [0.55555556, 0.54166667, 0.84745763, 1.        ],\n",
       "       [0.41666667, 0.29166667, 0.69491525, 0.75      ],\n",
       "       [0.77777778, 0.41666667, 0.83050847, 0.83333333],\n",
       "       [0.55555556, 0.375     , 0.77966102, 0.70833333],\n",
       "       [0.61111111, 0.41666667, 0.81355932, 0.875     ],\n",
       "       [0.91666667, 0.41666667, 0.94915254, 0.83333333],\n",
       "       [0.16666667, 0.20833333, 0.59322034, 0.66666667],\n",
       "       [0.83333333, 0.375     , 0.89830508, 0.70833333],\n",
       "       [0.66666667, 0.20833333, 0.81355932, 0.70833333],\n",
       "       [0.80555556, 0.66666667, 0.86440678, 1.        ],\n",
       "       [0.61111111, 0.5       , 0.69491525, 0.79166667],\n",
       "       [0.58333333, 0.29166667, 0.72881356, 0.75      ],\n",
       "       [0.69444444, 0.41666667, 0.76271186, 0.83333333],\n",
       "       [0.38888889, 0.20833333, 0.6779661 , 0.79166667],\n",
       "       [0.41666667, 0.33333333, 0.69491525, 0.95833333],\n",
       "       [0.58333333, 0.5       , 0.72881356, 0.91666667],\n",
       "       [0.61111111, 0.41666667, 0.76271186, 0.70833333],\n",
       "       [0.94444444, 0.75      , 0.96610169, 0.875     ],\n",
       "       [0.94444444, 0.25      , 1.        , 0.91666667],\n",
       "       [0.47222222, 0.08333333, 0.6779661 , 0.58333333],\n",
       "       [0.72222222, 0.5       , 0.79661017, 0.91666667],\n",
       "       [0.36111111, 0.33333333, 0.66101695, 0.79166667],\n",
       "       [0.94444444, 0.33333333, 0.96610169, 0.79166667],\n",
       "       [0.55555556, 0.29166667, 0.66101695, 0.70833333],\n",
       "       [0.66666667, 0.54166667, 0.79661017, 0.83333333],\n",
       "       [0.80555556, 0.5       , 0.84745763, 0.70833333],\n",
       "       [0.52777778, 0.33333333, 0.6440678 , 0.70833333],\n",
       "       [0.5       , 0.41666667, 0.66101695, 0.70833333],\n",
       "       [0.58333333, 0.33333333, 0.77966102, 0.83333333],\n",
       "       [0.80555556, 0.41666667, 0.81355932, 0.625     ],\n",
       "       [0.86111111, 0.33333333, 0.86440678, 0.75      ],\n",
       "       [1.        , 0.75      , 0.91525424, 0.79166667],\n",
       "       [0.58333333, 0.33333333, 0.77966102, 0.875     ],\n",
       "       [0.55555556, 0.33333333, 0.69491525, 0.58333333],\n",
       "       [0.5       , 0.25      , 0.77966102, 0.54166667],\n",
       "       [0.94444444, 0.41666667, 0.86440678, 0.91666667],\n",
       "       [0.55555556, 0.58333333, 0.77966102, 0.95833333],\n",
       "       [0.58333333, 0.45833333, 0.76271186, 0.70833333],\n",
       "       [0.47222222, 0.41666667, 0.6440678 , 0.70833333],\n",
       "       [0.72222222, 0.45833333, 0.74576271, 0.83333333],\n",
       "       [0.66666667, 0.45833333, 0.77966102, 0.95833333],\n",
       "       [0.72222222, 0.45833333, 0.69491525, 0.91666667],\n",
       "       [0.41666667, 0.29166667, 0.69491525, 0.75      ],\n",
       "       [0.69444444, 0.5       , 0.83050847, 0.91666667],\n",
       "       [0.66666667, 0.54166667, 0.79661017, 1.        ],\n",
       "       [0.66666667, 0.41666667, 0.71186441, 0.91666667],\n",
       "       [0.55555556, 0.20833333, 0.6779661 , 0.75      ],\n",
       "       [0.61111111, 0.41666667, 0.71186441, 0.79166667],\n",
       "       [0.52777778, 0.58333333, 0.74576271, 0.91666667],\n",
       "       [0.44444444, 0.41666667, 0.69491525, 0.70833333]])"
      ]
     },
     "execution_count": 33,
     "metadata": {},
     "output_type": "execute_result"
    }
   ],
   "source": [
    "x_scaled"
   ]
  },
  {
   "cell_type": "code",
   "execution_count": 36,
   "id": "da105450-75e2-4c3f-8a04-6a72acf02be9",
   "metadata": {},
   "outputs": [
    {
     "ename": "NameError",
     "evalue": "name 'x_categorical' is not defined",
     "output_type": "error",
     "traceback": [
      "\u001b[1;31m---------------------------------------------------------------------------\u001b[0m",
      "\u001b[1;31mNameError\u001b[0m                                 Traceback (most recent call last)",
      "Cell \u001b[1;32mIn[36], line 3\u001b[0m\n\u001b[0;32m      1\u001b[0m \u001b[38;5;28;01mfrom\u001b[39;00m \u001b[38;5;21;01msklearn\u001b[39;00m\u001b[38;5;21;01m.\u001b[39;00m\u001b[38;5;21;01mpreprocessing\u001b[39;00m \u001b[38;5;28;01mimport\u001b[39;00m OneHotEncoder\n\u001b[0;32m      2\u001b[0m encoder\u001b[38;5;241m=\u001b[39mOneHotEncoder()\n\u001b[1;32m----> 3\u001b[0m x_encoded\u001b[38;5;241m=\u001b[39mencoder\u001b[38;5;241m.\u001b[39mfit_transform(x_categorical)\n",
      "\u001b[1;31mNameError\u001b[0m: name 'x_categorical' is not defined"
     ]
    }
   ],
   "source": [
    "from sklearn.preprocessing import OneHotEncoder\n",
    "encoder=OneHotEncoder()\n",
    "x_encoded=encoder.fit_transform(x_categorical) # we dont have any categorical data that is why we didnt get any output"
   ]
  },
  {
   "cell_type": "code",
   "execution_count": 39,
   "id": "5ad369be-67cc-418e-bb5d-04130bf04c15",
   "metadata": {},
   "outputs": [
    {
     "ename": "NameError",
     "evalue": "name 'y_categorical' is not defined",
     "output_type": "error",
     "traceback": [
      "\u001b[1;31m---------------------------------------------------------------------------\u001b[0m",
      "\u001b[1;31mNameError\u001b[0m                                 Traceback (most recent call last)",
      "Cell \u001b[1;32mIn[39], line 3\u001b[0m\n\u001b[0;32m      1\u001b[0m \u001b[38;5;28;01mfrom\u001b[39;00m \u001b[38;5;21;01msklearn\u001b[39;00m\u001b[38;5;21;01m.\u001b[39;00m\u001b[38;5;21;01mpreprocessing\u001b[39;00m \u001b[38;5;28;01mimport\u001b[39;00m LabelEncoder\n\u001b[0;32m      2\u001b[0m label_encoder\u001b[38;5;241m=\u001b[39mLabelEncoder()\n\u001b[1;32m----> 3\u001b[0m y_encoded\u001b[38;5;241m=\u001b[39mlabel_encoder\u001b[38;5;241m.\u001b[39mfit_transform(y_categorical)\n",
      "\u001b[1;31mNameError\u001b[0m: name 'y_categorical' is not defined"
     ]
    }
   ],
   "source": [
    "from sklearn.preprocessing import LabelEncoder\n",
    "label_encoder=LabelEncoder()\n",
    "y_encoded=label_encoder.fit_transform(y_categorical)"
   ]
  },
  {
   "cell_type": "code",
   "execution_count": 40,
   "id": "7a799a97-bbbd-4d31-b9a6-b5875edaeea3",
   "metadata": {},
   "outputs": [],
   "source": [
    "from sklearn.linear_model import LogisticRegression\n",
    "model=LogisticRegression()"
   ]
  },
  {
   "cell_type": "code",
   "execution_count": 46,
   "id": "66c9b093-a539-471f-bdfe-0fdb4406a1b5",
   "metadata": {},
   "outputs": [
    {
     "data": {
      "text/html": [
       "<style>#sk-container-id-1 {color: black;background-color: white;}#sk-container-id-1 pre{padding: 0;}#sk-container-id-1 div.sk-toggleable {background-color: white;}#sk-container-id-1 label.sk-toggleable__label {cursor: pointer;display: block;width: 100%;margin-bottom: 0;padding: 0.3em;box-sizing: border-box;text-align: center;}#sk-container-id-1 label.sk-toggleable__label-arrow:before {content: \"▸\";float: left;margin-right: 0.25em;color: #696969;}#sk-container-id-1 label.sk-toggleable__label-arrow:hover:before {color: black;}#sk-container-id-1 div.sk-estimator:hover label.sk-toggleable__label-arrow:before {color: black;}#sk-container-id-1 div.sk-toggleable__content {max-height: 0;max-width: 0;overflow: hidden;text-align: left;background-color: #f0f8ff;}#sk-container-id-1 div.sk-toggleable__content pre {margin: 0.2em;color: black;border-radius: 0.25em;background-color: #f0f8ff;}#sk-container-id-1 input.sk-toggleable__control:checked~div.sk-toggleable__content {max-height: 200px;max-width: 100%;overflow: auto;}#sk-container-id-1 input.sk-toggleable__control:checked~label.sk-toggleable__label-arrow:before {content: \"▾\";}#sk-container-id-1 div.sk-estimator input.sk-toggleable__control:checked~label.sk-toggleable__label {background-color: #d4ebff;}#sk-container-id-1 div.sk-label input.sk-toggleable__control:checked~label.sk-toggleable__label {background-color: #d4ebff;}#sk-container-id-1 input.sk-hidden--visually {border: 0;clip: rect(1px 1px 1px 1px);clip: rect(1px, 1px, 1px, 1px);height: 1px;margin: -1px;overflow: hidden;padding: 0;position: absolute;width: 1px;}#sk-container-id-1 div.sk-estimator {font-family: monospace;background-color: #f0f8ff;border: 1px dotted black;border-radius: 0.25em;box-sizing: border-box;margin-bottom: 0.5em;}#sk-container-id-1 div.sk-estimator:hover {background-color: #d4ebff;}#sk-container-id-1 div.sk-parallel-item::after {content: \"\";width: 100%;border-bottom: 1px solid gray;flex-grow: 1;}#sk-container-id-1 div.sk-label:hover label.sk-toggleable__label {background-color: #d4ebff;}#sk-container-id-1 div.sk-serial::before {content: \"\";position: absolute;border-left: 1px solid gray;box-sizing: border-box;top: 0;bottom: 0;left: 50%;z-index: 0;}#sk-container-id-1 div.sk-serial {display: flex;flex-direction: column;align-items: center;background-color: white;padding-right: 0.2em;padding-left: 0.2em;position: relative;}#sk-container-id-1 div.sk-item {position: relative;z-index: 1;}#sk-container-id-1 div.sk-parallel {display: flex;align-items: stretch;justify-content: center;background-color: white;position: relative;}#sk-container-id-1 div.sk-item::before, #sk-container-id-1 div.sk-parallel-item::before {content: \"\";position: absolute;border-left: 1px solid gray;box-sizing: border-box;top: 0;bottom: 0;left: 50%;z-index: -1;}#sk-container-id-1 div.sk-parallel-item {display: flex;flex-direction: column;z-index: 1;position: relative;background-color: white;}#sk-container-id-1 div.sk-parallel-item:first-child::after {align-self: flex-end;width: 50%;}#sk-container-id-1 div.sk-parallel-item:last-child::after {align-self: flex-start;width: 50%;}#sk-container-id-1 div.sk-parallel-item:only-child::after {width: 0;}#sk-container-id-1 div.sk-dashed-wrapped {border: 1px dashed gray;margin: 0 0.4em 0.5em 0.4em;box-sizing: border-box;padding-bottom: 0.4em;background-color: white;}#sk-container-id-1 div.sk-label label {font-family: monospace;font-weight: bold;display: inline-block;line-height: 1.2em;}#sk-container-id-1 div.sk-label-container {text-align: center;}#sk-container-id-1 div.sk-container {/* jupyter's `normalize.less` sets `[hidden] { display: none; }` but bootstrap.min.css set `[hidden] { display: none !important; }` so we also need the `!important` here to be able to override the default hidden behavior on the sphinx rendered scikit-learn.org. See: https://github.com/scikit-learn/scikit-learn/issues/21755 */display: inline-block !important;position: relative;}#sk-container-id-1 div.sk-text-repr-fallback {display: none;}</style><div id=\"sk-container-id-1\" class=\"sk-top-container\"><div class=\"sk-text-repr-fallback\"><pre>LogisticRegression()</pre><b>In a Jupyter environment, please rerun this cell to show the HTML representation or trust the notebook. <br />On GitHub, the HTML representation is unable to render, please try loading this page with nbviewer.org.</b></div><div class=\"sk-container\" hidden><div class=\"sk-item\"><div class=\"sk-estimator sk-toggleable\"><input class=\"sk-toggleable__control sk-hidden--visually\" id=\"sk-estimator-id-1\" type=\"checkbox\" checked><label for=\"sk-estimator-id-1\" class=\"sk-toggleable__label sk-toggleable__label-arrow\">LogisticRegression</label><div class=\"sk-toggleable__content\"><pre>LogisticRegression()</pre></div></div></div></div></div>"
      ],
      "text/plain": [
       "LogisticRegression()"
      ]
     },
     "execution_count": 46,
     "metadata": {},
     "output_type": "execute_result"
    }
   ],
   "source": [
    "model.fit(x_train,y_train)"
   ]
  },
  {
   "cell_type": "markdown",
   "id": "5a45052b-c4f5-406d-aeb5-fab70ac5bf0e",
   "metadata": {},
   "source": [
    "# LINEAR REGRESSION"
   ]
  },
  {
   "cell_type": "code",
   "execution_count": null,
   "id": "03216caf-1f60-4fd4-97c5-d6e96d58c3d0",
   "metadata": {},
   "outputs": [],
   "source": []
  }
 ],
 "metadata": {
  "kernelspec": {
   "display_name": "Python 3 (ipykernel)",
   "language": "python",
   "name": "python3"
  },
  "language_info": {
   "codemirror_mode": {
    "name": "ipython",
    "version": 3
   },
   "file_extension": ".py",
   "mimetype": "text/x-python",
   "name": "python",
   "nbconvert_exporter": "python",
   "pygments_lexer": "ipython3",
   "version": "3.11.7"
  }
 },
 "nbformat": 4,
 "nbformat_minor": 5
}
